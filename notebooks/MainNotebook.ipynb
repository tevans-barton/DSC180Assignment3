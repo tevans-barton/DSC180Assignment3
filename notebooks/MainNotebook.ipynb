{
 "cells": [
  {
   "cell_type": "markdown",
   "metadata": {},
   "source": [
    "# DSC 180: Assignment 3\n",
    "### *Tommy Evans-Barton*"
   ]
  },
  {
   "cell_type": "markdown",
   "metadata": {},
   "source": [
    "## Introduction and Historical Background"
   ]
  },
  {
   "cell_type": "markdown",
   "metadata": {},
   "source": [
    "Ever since the arrival of the automobile as a part of everyday life, law enforcement has been tasked with regulating public health and safety when it comes to the road. As more cars crowded the road, traffic intersections were designed to limit collisions. As the danger to pedestrians became more clear, with several deaths occurring due to collisions with oncoming vehicles, crosswalks and walkways were created. As more people drove vehicles, the laws of the road were put into place, and it became the police force's job to ensure that these rules were obeyed for the greater safety of the general public.\n",
    "\n",
    "However, from the beginning there were issues with the methods of this enforcement; in fact, the very first recorded instance of one of these issue was all the way back in 1916, with the case of Captain John Bates, where, while attempting to stop and question the Captain, three police officers murdered Bates' wife while attempting to shoot out the vehicle's tires (Sarah Seo). Yes, issues with law enforcement on the road stem all the way back to the very inception of the automobile, and they have only continued since then, as court cases such as *Whren vs. United States* (in which the court ruled that police officers could subjectively pick and choose to pull drivers over based on a profile, while not having to be concerned with equity of the enforcement of traffic laws) and *Terry vs. Ohio* (which gave officers the right to search an individual at a traffic stop, no matter the original reason for the stop) have distorted the law's original intention in order to put more power into the hands of officers on the road.\n",
    "\n",
    "Fast forward to today, and many have begun questioning with growing force the legality and fairness of police officers' traffic stops, specifically when it comes to their perceived inequality with regards to race. While many police districts and precincts will claim that they do not profile based on race alone, and that their officers go under specific training to combat racism, it seems that every month a new video surfaces of an African American or Hispanic driver being harassed and abused during what would normally be a routine traffic stop. While some may argue that these are merely isolated instances, many more have claimed that these are merely indicative of a systemic issue with the way that the laws of the road have and are being applied.\n",
    "\n",
    "It is very difficult to get to the bottom of whether or not (and to what extend) racism is present in these stops. Sure one race may get pulled over more, but does that alone imply unfair practices? Or, as some have argued, does that merely indicate that that race is more likely to drive illegally? Or have a vehicle that doesn't meet code? Or live in a neighborhood where stops are conducted more often? All of these and more are confounding variables that are very difficult to control for in an everyday, real-world setting. However, with the stops data provided by the city of San Diego, and the *Veil of Darkness* technique originally performed by researchers at San Diego State University, it may be possible to get to the bottom of this question."
   ]
  },
  {
   "cell_type": "code",
   "execution_count": 15,
   "metadata": {
    "scrolled": true
   },
   "outputs": [],
   "source": [
    "import pandas as pd\n",
    "import numpy as np\n",
    "import geopandas as gpd\n",
    "import os\n",
    "import json\n",
    "import sys\n",
    "import matplotlib.pyplot as plt\n",
    "import requests\n",
    "import scipy.stats"
   ]
  },
  {
   "cell_type": "code",
   "execution_count": 16,
   "metadata": {},
   "outputs": [],
   "source": [
    "sys.path.append('../')\n",
    "sys.path.append('../src/data')\n",
    "sys.path.append('../src/processing')\n",
    "sys.path.append('../src/visualization')"
   ]
  },
  {
   "cell_type": "code",
   "execution_count": 17,
   "metadata": {},
   "outputs": [],
   "source": [
    "from etl import get_data\n",
    "import cleaning\n",
    "import visualize\n",
    "import calculations"
   ]
  },
  {
   "cell_type": "code",
   "execution_count": 18,
   "metadata": {},
   "outputs": [
    {
     "name": "stdout",
     "output_type": "stream",
     "text": [
      "The autoreload extension is already loaded. To reload it, use:\n",
      "  %reload_ext autoreload\n"
     ]
    }
   ],
   "source": [
    "%load_ext autoreload\n",
    "%autoreload 2"
   ]
  },
  {
   "cell_type": "code",
   "execution_count": 19,
   "metadata": {},
   "outputs": [],
   "source": [
    "%matplotlib inline"
   ]
  },
  {
   "cell_type": "markdown",
   "metadata": {},
   "source": [
    "## Data"
   ]
  },
  {
   "cell_type": "markdown",
   "metadata": {},
   "source": [
    "As said above, our data consists of stops within the city of San Diego. This data is mandated to be recorded by the officer that pulls over the offending party; at every stop, they are required to fill out a form with information such as the reason for the stop, what occurred during the stop, various information regarding the person/people in the vehicle, and other details. \n",
    "\n",
    "### Two Notes\n",
    "\n",
    "**Note 1**: As of 2018, there are slightly different formats than the years 2014-2017, as the law made various changes in this process in an attempt to improve the quality of the data. \n",
    "\n",
    "**Note 2**: I will mostly be working with the 2015 data, as it is fairly indicative of the rest of the data, and this is the same approach that the SDSU group decided to take. Briefly, I will also discuss the 2018-2019 data, as it does differ in several ways from the previous years."
   ]
  },
  {
   "cell_type": "code",
   "execution_count": 6,
   "metadata": {},
   "outputs": [],
   "source": [
    "file_path = '../config/data-params.json'\n",
    "cfg = json.load(open(file_path))"
   ]
  },
  {
   "cell_type": "code",
   "execution_count": 24,
   "metadata": {},
   "outputs": [],
   "source": [
    "get_data(**cfg)"
   ]
  },
  {
   "cell_type": "code",
   "execution_count": 7,
   "metadata": {},
   "outputs": [],
   "source": [
    "df2015 = pd.read_csv('../data/raw/2015.csv')\n",
    "df2018_2019 = pd.read_csv('../data/raw/2018-2019.csv')[['stop_id', 'reason_for_stop', 'beat', 'race', 'perceived_gender', 'perceived_age', \n",
    "                          'date_stop', 'time_stop', 'result', 'basis_for_search', 'action', 'consented', \n",
    "                          'contraband', 'type_of_property_seized']]"
   ]
  },
  {
   "cell_type": "markdown",
   "metadata": {},
   "source": [
    "## Assessing the Validity of the Data and EDA"
   ]
  },
  {
   "cell_type": "markdown",
   "metadata": {},
   "source": [
    "Before diving wholeheartedly into the analysis of this data, it is important to assess both its completeness as well as its validity, so that the decisions we make when working with the data have some much needed context."
   ]
  },
  {
   "cell_type": "markdown",
   "metadata": {},
   "source": [
    "### Missingness\n",
    "One way that data often has issues is when it is missing values for important information, that would make analysis on said data impossible."
   ]
  },
  {
   "cell_type": "code",
   "execution_count": 9,
   "metadata": {},
   "outputs": [
    {
     "data": {
      "image/png": "[encoded data removed]",
      "text/plain": [
       "<Figure size 432x288 with 1 Axes>"
      ]
     },
     "metadata": {
      "needs_background": "light"
     },
     "output_type": "display_data"
    }
   ],
   "source": [
    "visualize.null_plot(df2015)"
   ]
  },
  {
   "cell_type": "code",
   "execution_count": 10,
   "metadata": {},
   "outputs": [
    {
     "data": {
      "image/png": "[encoded data removed]",
      "text/plain": [
       "<Figure size 432x288 with 1 Axes>"
      ]
     },
     "metadata": {
      "needs_background": "light"
     },
     "output_type": "display_data"
    }
   ],
   "source": [
    "visualize.null_plot(df2018_2019)"
   ]
  },
  {
   "cell_type": "markdown",
   "metadata": {},
   "source": [
    "Within these graphs it is evident that there are many missing values for entries in the consent, contraband, and property seized columns, for 2015, as well as the basis for search column for 2018. However these omissions are more than likely a non-issue, as while these lack of entries may at first appear troubling, for features such as these, a lack of an entry most likely indicates that a search was not even conducted, which is how we will treat these when cleaning our dataset (this type of missing value is often called missing by design)."
   ]
  },
  {
   "cell_type": "markdown",
   "metadata": {},
   "source": [
    "### Accuracy\n",
    "Another issue often had within features of a dataset are their accuracy, as input errors and other such problems can skew data analysis conclusions.\n",
    "#### Stop Cause"
   ]
  },
  {
   "cell_type": "code",
   "execution_count": 10,
   "metadata": {
    "scrolled": false
   },
   "outputs": [
    {
     "data": {
      "text/plain": [
       "Moving Violation                      86397\n",
       "Equipment Violation                   27460\n",
       "Radio Call/Citizen Contact              497\n",
       "Muni, County, H&S Code                  348\n",
       "Personal Knowledge/Informant            251\n",
       "No Cause Specified on a Card            195\n",
       "Suspect Info (I.S., Bulletin, Log)      159\n",
       "MUNI, County, H&S Code                   15\n",
       "Personal Observ/Knowledge                12\n",
       "Other                                     7\n",
       "none listed                               6\n",
       "not marked                                4\n",
       "UNI, &County, H&&S Code                   3\n",
       "&Moving Violation                         3\n",
       "not noted                                 2\n",
       "NOT MARKED                                2\n",
       "Suspect Info                              2\n",
       "NOTHING MARKED                            2\n",
       "NOT SPECIFIED                             2\n",
       "not listed                                1\n",
       "not secified                              1\n",
       "CAUSE NOT LISTED ACTION NOT LISTED        1\n",
       "not marked  not marked                    1\n",
       "wm23                                      1\n",
       "Pedestrian                                1\n",
       "none noted                                1\n",
       "NOT CHECKED                               1\n",
       "f25                                       1\n",
       "Name: stop_cause, dtype: int64"
      ]
     },
     "execution_count": 10,
     "metadata": {},
     "output_type": "execute_result"
    }
   ],
   "source": [
    "df2015.stop_cause.value_counts()"
   ]
  },
  {
   "cell_type": "markdown",
   "metadata": {},
   "source": [
    "As seen above, there are clearly accuracy issues with `stop_cause` in the dataset, as there are several stop causes that don't seem to have any rational sense to them, or that are irrelevant to our investivation e.g.:\n",
    "\n",
    "    - wm23\n",
    "    - f25\n",
    "    - Pedestrian\n",
    "    \n",
    "which we will have to remove, as well as many different versions of `Null` that do not appear in our initial scan of incomplete entries:\n",
    "    \n",
    "    - No Cause Specified on a Card\n",
    "    - none listed\n",
    "    - not marked\n",
    "    - not noted\n",
    "    - NOT SPECIFIED\n",
    "    - NOTHING MARKED\n",
    "    - NOT MARKED\n",
    "    - not marked  not marked\n",
    "    - not listed\n",
    "    - not secified\n",
    "    - none noted\n",
    "    - NOT CHECKED\n",
    "    - CAUSE NOT LISTED ACTION NOT LISTED\n",
    "    - Other\n",
    "\n",
    ", which we will also have to remove. All told, these values account for 229 entries (.2%) of the data in 2015, meaning that they can most likely be ignored without issue, as this is not a significant portion of the entries for this data."
   ]
  },
  {
   "cell_type": "markdown",
   "metadata": {},
   "source": [
    "#### Subject Age"
   ]
  },
  {
   "cell_type": "code",
   "execution_count": 11,
   "metadata": {},
   "outputs": [
    {
     "data": {
      "text/plain": [
       "array([nan, '26', '40', '37', '29', '23', '24', '31', '60', '54', '42',\n",
       "       '50', '30', '22', '41', '27', '48', '20', '28', '34', '44', '21',\n",
       "       '49', '25', '58', '45', '59', '66', '64', '47', '32', '63', '52',\n",
       "       '57', '70', '35', '19', '68', '55', '62', '65', '53', '46', '38',\n",
       "       '75', '43', '74', '97', '79', '72', '16', '76', '39', '18', '17',\n",
       "       '61', '56', '51', '36', '33', '77', '73', '83', '5', '71', '67',\n",
       "       '69', '81', '78', '90', '213', '80', '222', '84', '88', '85', '0',\n",
       "       '4', '82', '99', '91', '89', '6', '87', '7', '15', '86', '1', '2_',\n",
       "       '93', '3', '8', '4_', 'No Age', '1020', 'y', '223', 'f', '345',\n",
       "       'h', '125', '3.7', 'j', '3_', '243', '224', '399', 'f26', '32`',\n",
       "       '13', '14', '9', '11', 'x', '92', '55Q', 'F48', '456', '2005', '`',\n",
       "       '233', '96', '701', '387', '180', 'f28', 'Y', 'NN', '10', '173',\n",
       "       '2', '98', '94', '100'], dtype=object)"
      ]
     },
     "execution_count": 11,
     "metadata": {},
     "output_type": "execute_result"
    }
   ],
   "source": [
    "df2015.subject_age.unique()"
   ]
  },
  {
   "cell_type": "code",
   "execution_count": 12,
   "metadata": {
    "scrolled": true
   },
   "outputs": [
    {
     "data": {
      "text/plain": [
       "array([ 25,  30,  23,  22,  37,  28,  50,  60,  35,  20,  40,  62,  42,\n",
       "        45,  24,  27,  14,  48,  21,  55,  26,  59,  53,  43,  70,  19,\n",
       "        52,  33,  63,  18,  32,  29,  38,  31,  76,  65,  54,  56,  67,\n",
       "        47,  69,  58,  16,  36,  79,  68,  57,  17,  75,  44,   9,  51,\n",
       "        41,  49,  80,  90,  64,  34,  15,  10,  46,  39,  66,  61,   5,\n",
       "        72,  85,  13,  71,  74,  88,  91,  82, 120,   2,  73,  81,  12,\n",
       "        99,  78,  11,   6,  84,  94,  77,   1,   7,   8, 100,  83,  92,\n",
       "       110,  93, 115, 116, 118,  86,  89,   4,  87, 103,  95,  97,  96,\n",
       "        98])"
      ]
     },
     "execution_count": 12,
     "metadata": {},
     "output_type": "execute_result"
    }
   ],
   "source": [
    "df2018_2019.perceived_age.unique()"
   ]
  },
  {
   "cell_type": "markdown",
   "metadata": {},
   "source": [
    "Within the `age` columns, there are several values that don't match what one would expect to see in the real world:\n",
    "\n",
    "`2015` Data:\n",
    "    - 213\n",
    "    - 0\n",
    "    - 1020\n",
    "    - 223\n",
    "    - 345\n",
    "    - 125\n",
    "    - 3.7\n",
    "    - 243\n",
    "    - 399\n",
    "    - 456\n",
    "    - 2005\n",
    "    - 701\n",
    "    - 387\n",
    "    - Several ages under 16 (the legal driving age, only making sense if listed as passengers)\n",
    "    - etc.\n",
    "    \n",
    "  \n",
    "`2018-2019` also suffers from large numbers, but in a much lower quantity/variety, and with much less reasonable outliers (120 being the largest number present), causing us to accept the fact that perhaps there were a small number of centenarians stopped by the police in this time period.\n",
    "\n",
    "The `2015` data also suffers from nonsensical entries such as:\n",
    "    - 4_\n",
    "    - 55Q\n",
    "    - Y\n",
    "    - NN\n",
    "    - j\n",
    "    - F48\n",
    "    - f\n",
    "    - x\n",
    "    - etc.\n",
    "\n",
    "`2018-2019` fortunately does not contain these illogical types.\n",
    "\n",
    "These differing entries will force us to most likely make anything that does not make logical sense into a non-entry, as it would be impossible to guess at what a police officer meant when putting in this information, and we want to 'poison' our dataset as little as possible."
   ]
  },
  {
   "cell_type": "markdown",
   "metadata": {},
   "source": [
    "#### Arrested/Searched"
   ]
  },
  {
   "cell_type": "code",
   "execution_count": 13,
   "metadata": {},
   "outputs": [
    {
     "data": {
      "text/plain": [
       "N    102965\n",
       "n      2268\n",
       "Y      1339\n",
       "y         7\n",
       "          6\n",
       "b         1\n",
       "M         1\n",
       "Name: arrested, dtype: int64"
      ]
     },
     "execution_count": 13,
     "metadata": {},
     "output_type": "execute_result"
    }
   ],
   "source": [
    "df2015.arrested.value_counts()"
   ]
  },
  {
   "cell_type": "code",
   "execution_count": 14,
   "metadata": {
    "scrolled": true
   },
   "outputs": [
    {
     "data": {
      "text/plain": [
       "N    99299\n",
       "Y     4354\n",
       "n     2300\n",
       "y       23\n",
       "         7\n",
       "b        1\n",
       "Name: searched, dtype: int64"
      ]
     },
     "execution_count": 14,
     "metadata": {},
     "output_type": "execute_result"
    }
   ],
   "source": [
    "df2015.searched.value_counts()"
   ]
  },
  {
   "cell_type": "markdown",
   "metadata": {},
   "source": [
    "Finally, in terms of accuracy, the 2015 data has some strange entires such as b and M for the searched and arrested columns, such as b and M. Thankfully, these do not obscure much information, as they are small portions of the data set."
   ]
  },
  {
   "cell_type": "markdown",
   "metadata": {},
   "source": [
    "### Precision"
   ]
  },
  {
   "cell_type": "markdown",
   "metadata": {},
   "source": [
    "Issues of precision can also lead to issues within our analysis, whether this be the way certain attributes are encoded, rounding errors, or any other forms of lazy data entry."
   ]
  },
  {
   "cell_type": "markdown",
   "metadata": {},
   "source": [
    "#### RACE AND GENDER"
   ]
  },
  {
   "cell_type": "markdown",
   "metadata": {},
   "source": [
    "A lot of the precision issues revolve around the way in which race and sex/gender are encoded differently between the two formats of data (2014-2017 vs. 2018-2019)."
   ]
  },
  {
   "cell_type": "code",
   "execution_count": 32,
   "metadata": {},
   "outputs": [
    {
     "data": {
      "text/plain": [
       "array(['W', 'B', 'A', 'H', 'O', 'C', 'F', 'K', 'Z', 'U', 'V', 'D', 'P',\n",
       "       'I', 'L', 'G', 'J', 'X', nan, 'S'], dtype=object)"
      ]
     },
     "execution_count": 32,
     "metadata": {},
     "output_type": "execute_result"
    }
   ],
   "source": [
    "df2015.subject_race.unique()"
   ]
  },
  {
   "cell_type": "code",
   "execution_count": 16,
   "metadata": {
    "scrolled": true
   },
   "outputs": [
    {
     "data": {
      "text/plain": [
       "array(['White', 'Hispanic/Latino/a', 'Black/African American',\n",
       "       'Native American', 'Middle Eastern or South Asian', 'Asian',\n",
       "       'Pacific Islander'], dtype=object)"
      ]
     },
     "execution_count": 16,
     "metadata": {},
     "output_type": "execute_result"
    }
   ],
   "source": [
    "df2018_2019.race.unique()"
   ]
  },
  {
   "cell_type": "code",
   "execution_count": 17,
   "metadata": {},
   "outputs": [
    {
     "data": {
      "text/plain": [
       "array(['F', 'M', nan, 'X'], dtype=object)"
      ]
     },
     "execution_count": 17,
     "metadata": {},
     "output_type": "execute_result"
    }
   ],
   "source": [
    "df2015.subject_sex.unique()"
   ]
  },
  {
   "cell_type": "code",
   "execution_count": null,
   "metadata": {},
   "outputs": [],
   "source": [
    "df2018_2019.perceived_gender.unique()"
   ]
  },
  {
   "cell_type": "markdown",
   "metadata": {},
   "source": [
    "As seen above, the 2014-2017 data has far more specific encodings of race, while 2018-2019 data has a far less precise version of the same information. On the other hand, 2018-2019 encode for gender, while 2014-2017 encode for sex, which allows for 2018-2019 to have more precision/a field that is more indicative of the important information within this field.\n",
    "\n",
    "In addition to such information, the 2018-2019 data has far more specific information on what causes a stop, the results of stops, and the contraband/property seized by the police, while 2014-2017 mainly encode this information with a binary Yes/No entry.\n",
    "\n",
    "This change in granularity forces us to go to the less specific instance in each case when cleaning the data, as we would like our datasets for the different years to be as uniform as possible in their representations, and therefore we must go to the less granular versions as it is far easier to go from more to less coarse than less to more coarse."
   ]
  },
  {
   "cell_type": "markdown",
   "metadata": {},
   "source": [
    "#### Age"
   ]
  },
  {
   "cell_type": "code",
   "execution_count": 19,
   "metadata": {},
   "outputs": [
    {
     "data": {
      "image/png": "[encoded data removed]",
      "text/plain": [
       "<Figure size 432x288 with 1 Axes>"
      ]
     },
     "metadata": {
      "needs_background": "light"
     },
     "output_type": "display_data"
    }
   ],
   "source": [
    "visualize.age_distribution_plot(df2015)"
   ]
  },
  {
   "cell_type": "code",
   "execution_count": 21,
   "metadata": {
    "scrolled": true
   },
   "outputs": [
    {
     "data": {
      "image/png": "[encoded data removed]",
      "text/plain": [
       "<Figure size 432x288 with 1 Axes>"
      ]
     },
     "metadata": {
      "needs_background": "light"
     },
     "output_type": "display_data"
    }
   ],
   "source": [
    "visualize.age_distribution_plot(df2018_2019)"
   ]
  },
  {
   "cell_type": "markdown",
   "metadata": {},
   "source": [
    "Another example of some precision issues appears in the distribution of the ages. As you can see, there are higher than expected spikes at the 5 and 10 year increments, especially in the new datasets which use perceived age instead of actual age, which seems to imply some natural rounding done by the officers filling out the cards. However, seeing as we are mostly interested in race within this analysis, we will leave this alone so as to focus on the more important work."
   ]
  },
  {
   "cell_type": "markdown",
   "metadata": {},
   "source": [
    "## Data Cleaning"
   ]
  },
  {
   "cell_type": "markdown",
   "metadata": {},
   "source": [
    "After exploring our data in depth, I was then able to make more informed decisions when cleaning the data, the result of which is shown below."
   ]
  },
  {
   "cell_type": "code",
   "execution_count": 27,
   "metadata": {},
   "outputs": [
    {
     "data": {
      "text/html": [
       "<div>\n",
       "<style scoped>\n",
       "    .dataframe tbody tr th:only-of-type {\n",
       "        vertical-align: middle;\n",
       "    }\n",
       "\n",
       "    .dataframe tbody tr th {\n",
       "        vertical-align: top;\n",
       "    }\n",
       "\n",
       "    .dataframe thead th {\n",
       "        text-align: right;\n",
       "    }\n",
       "</style>\n",
       "<table border=\"1\" class=\"dataframe\">\n",
       "  <thead>\n",
       "    <tr style=\"text-align: right;\">\n",
       "      <th></th>\n",
       "      <th>stop_id</th>\n",
       "      <th>stop_cause</th>\n",
       "      <th>service_area</th>\n",
       "      <th>subject_race</th>\n",
       "      <th>subject_sex</th>\n",
       "      <th>subject_age</th>\n",
       "      <th>date_stop</th>\n",
       "      <th>time_stop</th>\n",
       "      <th>arrested</th>\n",
       "      <th>searched</th>\n",
       "      <th>obtained_consent</th>\n",
       "      <th>contraband_found</th>\n",
       "      <th>property_seized</th>\n",
       "    </tr>\n",
       "  </thead>\n",
       "  <tbody>\n",
       "    <tr>\n",
       "      <td>0</td>\n",
       "      <td>1191287</td>\n",
       "      <td>Moving Violation</td>\n",
       "      <td>430</td>\n",
       "      <td>White</td>\n",
       "      <td>Female</td>\n",
       "      <td>NaN</td>\n",
       "      <td>2015-01-01</td>\n",
       "      <td>NaN</td>\n",
       "      <td>N</td>\n",
       "      <td>N</td>\n",
       "      <td>NaN</td>\n",
       "      <td>N</td>\n",
       "      <td>N</td>\n",
       "    </tr>\n",
       "    <tr>\n",
       "      <td>1</td>\n",
       "      <td>1191295</td>\n",
       "      <td>Moving Violation</td>\n",
       "      <td>520</td>\n",
       "      <td>Black/African American</td>\n",
       "      <td>Male</td>\n",
       "      <td>NaN</td>\n",
       "      <td>2015-01-01</td>\n",
       "      <td>NaN</td>\n",
       "      <td>N</td>\n",
       "      <td>N</td>\n",
       "      <td>NaN</td>\n",
       "      <td>N</td>\n",
       "      <td>N</td>\n",
       "    </tr>\n",
       "    <tr>\n",
       "      <td>2</td>\n",
       "      <td>1191275</td>\n",
       "      <td>Moving Violation</td>\n",
       "      <td>430</td>\n",
       "      <td>Black/African American</td>\n",
       "      <td>Male</td>\n",
       "      <td>NaN</td>\n",
       "      <td>2015-01-01</td>\n",
       "      <td>NaN</td>\n",
       "      <td>N</td>\n",
       "      <td>N</td>\n",
       "      <td>NaN</td>\n",
       "      <td>N</td>\n",
       "      <td>N</td>\n",
       "    </tr>\n",
       "    <tr>\n",
       "      <td>3</td>\n",
       "      <td>1191308</td>\n",
       "      <td>Moving Violation</td>\n",
       "      <td>520</td>\n",
       "      <td>White</td>\n",
       "      <td>Male</td>\n",
       "      <td>NaN</td>\n",
       "      <td>2015-01-01</td>\n",
       "      <td>NaN</td>\n",
       "      <td>N</td>\n",
       "      <td>N</td>\n",
       "      <td>NaN</td>\n",
       "      <td>N</td>\n",
       "      <td>N</td>\n",
       "    </tr>\n",
       "    <tr>\n",
       "      <td>4</td>\n",
       "      <td>1191285</td>\n",
       "      <td>Moving Violation</td>\n",
       "      <td>430</td>\n",
       "      <td>White</td>\n",
       "      <td>Female</td>\n",
       "      <td>NaN</td>\n",
       "      <td>2015-01-01</td>\n",
       "      <td>NaN</td>\n",
       "      <td>N</td>\n",
       "      <td>N</td>\n",
       "      <td>NaN</td>\n",
       "      <td>N</td>\n",
       "      <td>N</td>\n",
       "    </tr>\n",
       "  </tbody>\n",
       "</table>\n",
       "</div>"
      ],
      "text/plain": [
       "   stop_id        stop_cause service_area            subject_race subject_sex  \\\n",
       "0  1191287  Moving Violation          430                   White      Female   \n",
       "1  1191295  Moving Violation          520  Black/African American        Male   \n",
       "2  1191275  Moving Violation          430  Black/African American        Male   \n",
       "3  1191308  Moving Violation          520                   White        Male   \n",
       "4  1191285  Moving Violation          430                   White      Female   \n",
       "\n",
       "   subject_age   date_stop time_stop arrested searched obtained_consent  \\\n",
       "0          NaN  2015-01-01       NaN        N        N              NaN   \n",
       "1          NaN  2015-01-01       NaN        N        N              NaN   \n",
       "2          NaN  2015-01-01       NaN        N        N              NaN   \n",
       "3          NaN  2015-01-01       NaN        N        N              NaN   \n",
       "4          NaN  2015-01-01       NaN        N        N              NaN   \n",
       "\n",
       "  contraband_found property_seized  \n",
       "0                N               N  \n",
       "1                N               N  \n",
       "2                N               N  \n",
       "3                N               N  \n",
       "4                N               N  "
      ]
     },
     "execution_count": 27,
     "metadata": {},
     "output_type": "execute_result"
    }
   ],
   "source": [
    "cleaned_df2015 = cleaning.clean_2014_2017('../data/raw/2015.csv', notebook = True)\n",
    "cleaned_df2015.head()"
   ]
  },
  {
   "cell_type": "code",
   "execution_count": 31,
   "metadata": {},
   "outputs": [
    {
     "data": {
      "text/html": [
       "<div>\n",
       "<style scoped>\n",
       "    .dataframe tbody tr th:only-of-type {\n",
       "        vertical-align: middle;\n",
       "    }\n",
       "\n",
       "    .dataframe tbody tr th {\n",
       "        vertical-align: top;\n",
       "    }\n",
       "\n",
       "    .dataframe thead th {\n",
       "        text-align: right;\n",
       "    }\n",
       "</style>\n",
       "<table border=\"1\" class=\"dataframe\">\n",
       "  <thead>\n",
       "    <tr style=\"text-align: right;\">\n",
       "      <th></th>\n",
       "      <th>stop_id</th>\n",
       "      <th>stop_cause</th>\n",
       "      <th>service_area</th>\n",
       "      <th>subject_race</th>\n",
       "      <th>subject_sex</th>\n",
       "      <th>subject_age</th>\n",
       "      <th>date_stop</th>\n",
       "      <th>time_stop</th>\n",
       "      <th>arrested</th>\n",
       "      <th>searched</th>\n",
       "      <th>obtained_consent</th>\n",
       "      <th>contraband_found</th>\n",
       "      <th>property_seized</th>\n",
       "    </tr>\n",
       "  </thead>\n",
       "  <tbody>\n",
       "    <tr>\n",
       "      <td>0</td>\n",
       "      <td>2443</td>\n",
       "      <td>Reasonable Suspicion</td>\n",
       "      <td>120</td>\n",
       "      <td>White</td>\n",
       "      <td>Male</td>\n",
       "      <td>25</td>\n",
       "      <td>2018-07-01</td>\n",
       "      <td>00:01:37</td>\n",
       "      <td>Y</td>\n",
       "      <td>N</td>\n",
       "      <td>NaN</td>\n",
       "      <td>N</td>\n",
       "      <td>N</td>\n",
       "    </tr>\n",
       "    <tr>\n",
       "      <td>1</td>\n",
       "      <td>2444</td>\n",
       "      <td>Traffic Violation</td>\n",
       "      <td>120</td>\n",
       "      <td>White</td>\n",
       "      <td>Male</td>\n",
       "      <td>25</td>\n",
       "      <td>2018-07-01</td>\n",
       "      <td>00:03:34</td>\n",
       "      <td>N</td>\n",
       "      <td>N</td>\n",
       "      <td>NaN</td>\n",
       "      <td>N</td>\n",
       "      <td>N</td>\n",
       "    </tr>\n",
       "    <tr>\n",
       "      <td>2</td>\n",
       "      <td>2447</td>\n",
       "      <td>Reasonable Suspicion</td>\n",
       "      <td>820</td>\n",
       "      <td>Hispanic/Latino/a</td>\n",
       "      <td>Male</td>\n",
       "      <td>30</td>\n",
       "      <td>2018-07-01</td>\n",
       "      <td>00:05:43</td>\n",
       "      <td>N</td>\n",
       "      <td>N</td>\n",
       "      <td>NaN</td>\n",
       "      <td>N</td>\n",
       "      <td>N</td>\n",
       "    </tr>\n",
       "    <tr>\n",
       "      <td>3</td>\n",
       "      <td>2448</td>\n",
       "      <td>Traffic Violation</td>\n",
       "      <td>610</td>\n",
       "      <td>White</td>\n",
       "      <td>Male</td>\n",
       "      <td>23</td>\n",
       "      <td>2018-07-01</td>\n",
       "      <td>00:19:06</td>\n",
       "      <td>N</td>\n",
       "      <td>N</td>\n",
       "      <td>NaN</td>\n",
       "      <td>N</td>\n",
       "      <td>N</td>\n",
       "    </tr>\n",
       "    <tr>\n",
       "      <td>4</td>\n",
       "      <td>2449</td>\n",
       "      <td>Reasonable Suspicion</td>\n",
       "      <td>110</td>\n",
       "      <td>White</td>\n",
       "      <td>Male</td>\n",
       "      <td>25</td>\n",
       "      <td>2018-07-01</td>\n",
       "      <td>00:03:00</td>\n",
       "      <td>Y</td>\n",
       "      <td>Y</td>\n",
       "      <td>NaN</td>\n",
       "      <td>N</td>\n",
       "      <td>N</td>\n",
       "    </tr>\n",
       "  </tbody>\n",
       "</table>\n",
       "</div>"
      ],
      "text/plain": [
       "   stop_id            stop_cause service_area       subject_race subject_sex  \\\n",
       "0     2443  Reasonable Suspicion          120              White        Male   \n",
       "1     2444     Traffic Violation          120              White        Male   \n",
       "2     2447  Reasonable Suspicion          820  Hispanic/Latino/a        Male   \n",
       "3     2448     Traffic Violation          610              White        Male   \n",
       "4     2449  Reasonable Suspicion          110              White        Male   \n",
       "\n",
       "   subject_age   date_stop time_stop arrested searched obtained_consent  \\\n",
       "0           25  2018-07-01  00:01:37        Y        N              NaN   \n",
       "1           25  2018-07-01  00:03:34        N        N              NaN   \n",
       "2           30  2018-07-01  00:05:43        N        N              NaN   \n",
       "3           23  2018-07-01  00:19:06        N        N              NaN   \n",
       "4           25  2018-07-01  00:03:00        Y        Y              NaN   \n",
       "\n",
       "  contraband_found property_seized  \n",
       "0                N               N  \n",
       "1                N               N  \n",
       "2                N               N  \n",
       "3                N               N  \n",
       "4                N               N  "
      ]
     },
     "execution_count": 31,
     "metadata": {},
     "output_type": "execute_result"
    }
   ],
   "source": [
    "cleaned_df2018_2019 = cleaning.clean_2018_2019('../data/raw/2018-2019.csv', notebook = True)\n",
    "cleaned_df2018_2019.head()"
   ]
  },
  {
   "cell_type": "markdown",
   "metadata": {},
   "source": [
    "## Stop Rates"
   ]
  },
  {
   "cell_type": "markdown",
   "metadata": {},
   "source": [
    "Now that the data has been edited into a more usable form, we can begin to try to answer some of our questions regarding different races and their treatment by police on the road.\n",
    "\n",
    "An initial, and in some ways naïve, way to measure whether or not police are enforcing traffic laws fairly is by comparing stop rates from race to race, and this is as good as any a place to start. By comparing the counts of the races who were stopped with the number of people of that race actually in that area (computed from the 2010 census data), we can begin to see whether or not the proportions of people stopped are equal amongst populations.\n",
    "\n",
    "**Note**: There were no hispanics recorded in the census data that we found, and so we were forced to not include them in the following calculations, as there was no reasonable way to compute a denominator for the calculation."
   ]
  },
  {
   "cell_type": "code",
   "execution_count": 28,
   "metadata": {},
   "outputs": [],
   "source": [
    "census = pd.read_csv('../data/census.csv')\n",
    "cleaned_census = cleaning.clean_census(census)"
   ]
  },
  {
   "cell_type": "code",
   "execution_count": 29,
   "metadata": {},
   "outputs": [
    {
     "data": {
      "text/plain": [
       "Asian                     0.042507\n",
       "Black/African American    0.140957\n",
       "Native American           0.076663\n",
       "Pacific Islander          0.040961\n",
       "White                     0.064783\n",
       "dtype: float64"
      ]
     },
     "execution_count": 29,
     "metadata": {},
     "output_type": "execute_result"
    }
   ],
   "source": [
    "total_stop_rates = calculations.calc_total_stop_rates(cleaned_census, cleaned_df2015)\n",
    "total_stop_rates"
   ]
  },
  {
   "cell_type": "code",
   "execution_count": 30,
   "metadata": {},
   "outputs": [
    {
     "data": {
      "image/png": "[encoded data removed]",
      "text/plain": [
       "<Figure size 432x288 with 1 Axes>"
      ]
     },
     "metadata": {
      "needs_background": "light"
     },
     "output_type": "display_data"
    }
   ],
   "source": [
    "total_stop_rates_plot = total_stop_rates.plot(kind = 'bar')\n",
    "title_1 = plt.title('Stop Rates by Race')"
   ]
  },
  {
   "cell_type": "code",
   "execution_count": 31,
   "metadata": {},
   "outputs": [
    {
     "data": {
      "text/html": [
       "<div>\n",
       "<style scoped>\n",
       "    .dataframe tbody tr th:only-of-type {\n",
       "        vertical-align: middle;\n",
       "    }\n",
       "\n",
       "    .dataframe tbody tr th {\n",
       "        vertical-align: top;\n",
       "    }\n",
       "\n",
       "    .dataframe thead th {\n",
       "        text-align: right;\n",
       "    }\n",
       "</style>\n",
       "<table border=\"1\" class=\"dataframe\">\n",
       "  <thead>\n",
       "    <tr style=\"text-align: right;\">\n",
       "      <th>subject_race</th>\n",
       "      <th>White</th>\n",
       "      <th>Black/African American</th>\n",
       "      <th>Native American</th>\n",
       "      <th>Asian</th>\n",
       "      <th>Pacific Islander</th>\n",
       "    </tr>\n",
       "    <tr>\n",
       "      <th>service_area</th>\n",
       "      <th></th>\n",
       "      <th></th>\n",
       "      <th></th>\n",
       "      <th></th>\n",
       "      <th></th>\n",
       "    </tr>\n",
       "  </thead>\n",
       "  <tbody>\n",
       "    <tr>\n",
       "      <td>110</td>\n",
       "      <td>0.057212</td>\n",
       "      <td>0.142667</td>\n",
       "      <td>0.054983</td>\n",
       "      <td>0.025812</td>\n",
       "      <td>0.034483</td>\n",
       "    </tr>\n",
       "    <tr>\n",
       "      <td>120</td>\n",
       "      <td>0.101957</td>\n",
       "      <td>0.557182</td>\n",
       "      <td>0.068182</td>\n",
       "      <td>0.057631</td>\n",
       "      <td>0.096774</td>\n",
       "    </tr>\n",
       "    <tr>\n",
       "      <td>230</td>\n",
       "      <td>0.052505</td>\n",
       "      <td>0.134466</td>\n",
       "      <td>0.236364</td>\n",
       "      <td>0.032083</td>\n",
       "      <td>0.032154</td>\n",
       "    </tr>\n",
       "    <tr>\n",
       "      <td>240</td>\n",
       "      <td>0.060607</td>\n",
       "      <td>0.133475</td>\n",
       "      <td>0.386635</td>\n",
       "      <td>0.041999</td>\n",
       "      <td>0.027027</td>\n",
       "    </tr>\n",
       "    <tr>\n",
       "      <td>310</td>\n",
       "      <td>0.101898</td>\n",
       "      <td>0.183615</td>\n",
       "      <td>0.038462</td>\n",
       "      <td>0.119284</td>\n",
       "      <td>0.079914</td>\n",
       "    </tr>\n",
       "    <tr>\n",
       "      <td>320</td>\n",
       "      <td>0.044870</td>\n",
       "      <td>0.152244</td>\n",
       "      <td>0.029484</td>\n",
       "      <td>0.047897</td>\n",
       "      <td>0.032787</td>\n",
       "    </tr>\n",
       "    <tr>\n",
       "      <td>430</td>\n",
       "      <td>0.016809</td>\n",
       "      <td>0.064584</td>\n",
       "      <td>0.011004</td>\n",
       "      <td>0.012748</td>\n",
       "      <td>0.013610</td>\n",
       "    </tr>\n",
       "    <tr>\n",
       "      <td>440</td>\n",
       "      <td>0.023558</td>\n",
       "      <td>0.127516</td>\n",
       "      <td>0.036675</td>\n",
       "      <td>0.042881</td>\n",
       "      <td>0.019774</td>\n",
       "    </tr>\n",
       "    <tr>\n",
       "      <td>510</td>\n",
       "      <td>0.030027</td>\n",
       "      <td>0.104499</td>\n",
       "      <td>0.011885</td>\n",
       "      <td>0.064706</td>\n",
       "      <td>0.042105</td>\n",
       "    </tr>\n",
       "    <tr>\n",
       "      <td>520</td>\n",
       "      <td>0.174777</td>\n",
       "      <td>0.379593</td>\n",
       "      <td>0.063636</td>\n",
       "      <td>0.139511</td>\n",
       "      <td>0.180180</td>\n",
       "    </tr>\n",
       "    <tr>\n",
       "      <td>530</td>\n",
       "      <td>0.751678</td>\n",
       "      <td>0.282609</td>\n",
       "      <td>0.200000</td>\n",
       "      <td>0.347826</td>\n",
       "      <td>NaN</td>\n",
       "    </tr>\n",
       "    <tr>\n",
       "      <td>610</td>\n",
       "      <td>0.059767</td>\n",
       "      <td>0.148234</td>\n",
       "      <td>0.024331</td>\n",
       "      <td>0.088422</td>\n",
       "      <td>0.025253</td>\n",
       "    </tr>\n",
       "    <tr>\n",
       "      <td>620</td>\n",
       "      <td>0.069721</td>\n",
       "      <td>0.163753</td>\n",
       "      <td>0.043956</td>\n",
       "      <td>0.047828</td>\n",
       "      <td>0.050794</td>\n",
       "    </tr>\n",
       "    <tr>\n",
       "      <td>710</td>\n",
       "      <td>0.046510</td>\n",
       "      <td>0.403071</td>\n",
       "      <td>0.033473</td>\n",
       "      <td>0.145963</td>\n",
       "      <td>0.243590</td>\n",
       "    </tr>\n",
       "    <tr>\n",
       "      <td>720</td>\n",
       "      <td>0.021191</td>\n",
       "      <td>0.097717</td>\n",
       "      <td>0.019824</td>\n",
       "      <td>0.017292</td>\n",
       "      <td>0.022857</td>\n",
       "    </tr>\n",
       "    <tr>\n",
       "      <td>810</td>\n",
       "      <td>0.051871</td>\n",
       "      <td>0.124095</td>\n",
       "      <td>0.015504</td>\n",
       "      <td>0.062863</td>\n",
       "      <td>0.019841</td>\n",
       "    </tr>\n",
       "    <tr>\n",
       "      <td>820</td>\n",
       "      <td>0.033351</td>\n",
       "      <td>0.136107</td>\n",
       "      <td>0.025882</td>\n",
       "      <td>0.051947</td>\n",
       "      <td>0.054348</td>\n",
       "    </tr>\n",
       "    <tr>\n",
       "      <td>830</td>\n",
       "      <td>0.038596</td>\n",
       "      <td>0.145830</td>\n",
       "      <td>0.010941</td>\n",
       "      <td>0.040954</td>\n",
       "      <td>0.032787</td>\n",
       "    </tr>\n",
       "    <tr>\n",
       "      <td>930</td>\n",
       "      <td>0.080436</td>\n",
       "      <td>0.444039</td>\n",
       "      <td>1.135593</td>\n",
       "      <td>0.052114</td>\n",
       "      <td>0.200000</td>\n",
       "    </tr>\n",
       "  </tbody>\n",
       "</table>\n",
       "</div>"
      ],
      "text/plain": [
       "subject_race     White  Black/African American  Native American     Asian  \\\n",
       "service_area                                                                \n",
       "110           0.057212                0.142667         0.054983  0.025812   \n",
       "120           0.101957                0.557182         0.068182  0.057631   \n",
       "230           0.052505                0.134466         0.236364  0.032083   \n",
       "240           0.060607                0.133475         0.386635  0.041999   \n",
       "310           0.101898                0.183615         0.038462  0.119284   \n",
       "320           0.044870                0.152244         0.029484  0.047897   \n",
       "430           0.016809                0.064584         0.011004  0.012748   \n",
       "440           0.023558                0.127516         0.036675  0.042881   \n",
       "510           0.030027                0.104499         0.011885  0.064706   \n",
       "520           0.174777                0.379593         0.063636  0.139511   \n",
       "530           0.751678                0.282609         0.200000  0.347826   \n",
       "610           0.059767                0.148234         0.024331  0.088422   \n",
       "620           0.069721                0.163753         0.043956  0.047828   \n",
       "710           0.046510                0.403071         0.033473  0.145963   \n",
       "720           0.021191                0.097717         0.019824  0.017292   \n",
       "810           0.051871                0.124095         0.015504  0.062863   \n",
       "820           0.033351                0.136107         0.025882  0.051947   \n",
       "830           0.038596                0.145830         0.010941  0.040954   \n",
       "930           0.080436                0.444039         1.135593  0.052114   \n",
       "\n",
       "subject_race  Pacific Islander  \n",
       "service_area                    \n",
       "110                   0.034483  \n",
       "120                   0.096774  \n",
       "230                   0.032154  \n",
       "240                   0.027027  \n",
       "310                   0.079914  \n",
       "320                   0.032787  \n",
       "430                   0.013610  \n",
       "440                   0.019774  \n",
       "510                   0.042105  \n",
       "520                   0.180180  \n",
       "530                        NaN  \n",
       "610                   0.025253  \n",
       "620                   0.050794  \n",
       "710                   0.243590  \n",
       "720                   0.022857  \n",
       "810                   0.019841  \n",
       "820                   0.054348  \n",
       "830                   0.032787  \n",
       "930                   0.200000  "
      ]
     },
     "execution_count": 31,
     "metadata": {},
     "output_type": "execute_result"
    }
   ],
   "source": [
    "stop_rate_serv = calculations.calc_stop_rates_by_service_area(cleaned_census, cleaned_df2015)\n",
    "stop_rate_serv"
   ]
  },
  {
   "cell_type": "markdown",
   "metadata": {},
   "source": [
    "It seems pretty evident that based on populations in the area, black drivers are being pulled over with a lot more regularity than white drivers city wide, with differing levels of discrimination present from service area to service area."
   ]
  },
  {
   "cell_type": "markdown",
   "metadata": {},
   "source": [
    "## Post-Stop Outcomes"
   ]
  },
  {
   "cell_type": "markdown",
   "metadata": {},
   "source": [
    "Another way in which treatment disparity amongst races can be quanitifed is in how different races are treated once they've already been stopped."
   ]
  },
  {
   "cell_type": "code",
   "execution_count": 321,
   "metadata": {
    "scrolled": false
   },
   "outputs": [
    {
     "data": {
      "image/png": "[encoded data removed]",
      "text/plain": [
       "<Figure size 432x288 with 1 Axes>"
      ]
     },
     "metadata": {
      "needs_background": "light"
     },
     "output_type": "display_data"
    }
   ],
   "source": [
    "visualize.post_stop_plot(cleaned_df2015)"
   ]
  },
  {
   "cell_type": "markdown",
   "metadata": {},
   "source": [
    "As is evident in the graph above, White, Asian, and Native American drivers are searched far less than Black and Pacific Islander drivers, while Pacific Islanders are arrested far more than any other demographic."
   ]
  },
  {
   "cell_type": "markdown",
   "metadata": {},
   "source": [
    "## Veil of Darkness"
   ]
  },
  {
   "cell_type": "markdown",
   "metadata": {},
   "source": [
    "All of these analyses ultimately comes to a head with the Veil of Darkness technique as initially used by the SDSU study. In this study, their hypothesis is that cops can only make racially biased decisions when pulling over drivers if they can see the driver, i.e. when it's light outside. Therefore, a truly 'neutral' set of stop rates is when it's dark outside. By selecting only datapoints which fall in the inner-twilight period (which they define as 5:09 p.m. to 8:29 p.m.) they attempted to control for time while still getting a sampling of light and dark stops. \n",
    "\n",
    "The idea concludes with this: based on this technique, if the different races are stopped at the same rate in the day time as they are in the night time (i.e. when they can't be identified by their race), then police stops aren't being affected by racial prejudices. Below, I reconducted this test, and then conducted a Kolmogorov-Smirnov test in order to compare the two distributions that I calculated."
   ]
  },
  {
   "cell_type": "code",
   "execution_count": 41,
   "metadata": {},
   "outputs": [
    {
     "data": {
      "text/html": [
       "<div>\n",
       "<style scoped>\n",
       "    .dataframe tbody tr th:only-of-type {\n",
       "        vertical-align: middle;\n",
       "    }\n",
       "\n",
       "    .dataframe tbody tr th {\n",
       "        vertical-align: top;\n",
       "    }\n",
       "\n",
       "    .dataframe thead th {\n",
       "        text-align: right;\n",
       "    }\n",
       "</style>\n",
       "<table border=\"1\" class=\"dataframe\">\n",
       "  <thead>\n",
       "    <tr style=\"text-align: right;\">\n",
       "      <th></th>\n",
       "      <th>stop_id</th>\n",
       "      <th>stop_cause</th>\n",
       "      <th>service_area</th>\n",
       "      <th>subject_race</th>\n",
       "      <th>subject_sex</th>\n",
       "      <th>subject_age</th>\n",
       "      <th>date_stop</th>\n",
       "      <th>time_stop</th>\n",
       "      <th>arrested</th>\n",
       "      <th>searched</th>\n",
       "      <th>obtained_consent</th>\n",
       "      <th>contraband_found</th>\n",
       "      <th>property_seized</th>\n",
       "      <th>is_in_twilight</th>\n",
       "    </tr>\n",
       "  </thead>\n",
       "  <tbody>\n",
       "    <tr>\n",
       "      <td>0</td>\n",
       "      <td>1189877</td>\n",
       "      <td>Moving Violation</td>\n",
       "      <td>310</td>\n",
       "      <td>Asian</td>\n",
       "      <td>Male</td>\n",
       "      <td>29.0</td>\n",
       "      <td>2015-01-01</td>\n",
       "      <td>2020-03-17 17:20:00</td>\n",
       "      <td>N</td>\n",
       "      <td>N</td>\n",
       "      <td>NaN</td>\n",
       "      <td>N</td>\n",
       "      <td>N</td>\n",
       "      <td>True</td>\n",
       "    </tr>\n",
       "    <tr>\n",
       "      <td>1</td>\n",
       "      <td>1189878</td>\n",
       "      <td>Moving Violation</td>\n",
       "      <td>720</td>\n",
       "      <td>Black/African American</td>\n",
       "      <td>Male</td>\n",
       "      <td>24.0</td>\n",
       "      <td>2015-01-01</td>\n",
       "      <td>2020-03-17 17:23:00</td>\n",
       "      <td>N</td>\n",
       "      <td>N</td>\n",
       "      <td>NaN</td>\n",
       "      <td>N</td>\n",
       "      <td>N</td>\n",
       "      <td>True</td>\n",
       "    </tr>\n",
       "    <tr>\n",
       "      <td>2</td>\n",
       "      <td>1189879</td>\n",
       "      <td>Equipment Violation</td>\n",
       "      <td>230</td>\n",
       "      <td>White</td>\n",
       "      <td>Male</td>\n",
       "      <td>16.0</td>\n",
       "      <td>2015-01-01</td>\n",
       "      <td>2020-03-17 17:25:00</td>\n",
       "      <td>N</td>\n",
       "      <td>N</td>\n",
       "      <td>NaN</td>\n",
       "      <td>N</td>\n",
       "      <td>N</td>\n",
       "      <td>True</td>\n",
       "    </tr>\n",
       "    <tr>\n",
       "      <td>3</td>\n",
       "      <td>1189880</td>\n",
       "      <td>Equipment Violation</td>\n",
       "      <td>230</td>\n",
       "      <td>Hispanic/Latino/a</td>\n",
       "      <td>Male</td>\n",
       "      <td>47.0</td>\n",
       "      <td>2015-01-01</td>\n",
       "      <td>2020-03-17 17:26:00</td>\n",
       "      <td>N</td>\n",
       "      <td>N</td>\n",
       "      <td>NaN</td>\n",
       "      <td>N</td>\n",
       "      <td>N</td>\n",
       "      <td>True</td>\n",
       "    </tr>\n",
       "    <tr>\n",
       "      <td>4</td>\n",
       "      <td>1189884</td>\n",
       "      <td>Equipment Violation</td>\n",
       "      <td>820</td>\n",
       "      <td>Hispanic/Latino/a</td>\n",
       "      <td>Male</td>\n",
       "      <td>24.0</td>\n",
       "      <td>2015-01-01</td>\n",
       "      <td>2020-03-17 17:32:00</td>\n",
       "      <td>N</td>\n",
       "      <td>N</td>\n",
       "      <td>NaN</td>\n",
       "      <td>N</td>\n",
       "      <td>N</td>\n",
       "      <td>True</td>\n",
       "    </tr>\n",
       "  </tbody>\n",
       "</table>\n",
       "</div>"
      ],
      "text/plain": [
       "   stop_id           stop_cause service_area            subject_race  \\\n",
       "0  1189877     Moving Violation          310                   Asian   \n",
       "1  1189878     Moving Violation          720  Black/African American   \n",
       "2  1189879  Equipment Violation          230                   White   \n",
       "3  1189880  Equipment Violation          230       Hispanic/Latino/a   \n",
       "4  1189884  Equipment Violation          820       Hispanic/Latino/a   \n",
       "\n",
       "  subject_sex  subject_age   date_stop           time_stop arrested searched  \\\n",
       "0        Male         29.0  2015-01-01 2020-03-17 17:20:00        N        N   \n",
       "1        Male         24.0  2015-01-01 2020-03-17 17:23:00        N        N   \n",
       "2        Male         16.0  2015-01-01 2020-03-17 17:25:00        N        N   \n",
       "3        Male         47.0  2015-01-01 2020-03-17 17:26:00        N        N   \n",
       "4        Male         24.0  2015-01-01 2020-03-17 17:32:00        N        N   \n",
       "\n",
       "  obtained_consent contraband_found property_seized  is_in_twilight  \n",
       "0              NaN                N               N            True  \n",
       "1              NaN                N               N            True  \n",
       "2              NaN                N               N            True  \n",
       "3              NaN                N               N            True  \n",
       "4              NaN                N               N            True  "
      ]
     },
     "execution_count": 41,
     "metadata": {},
     "output_type": "execute_result"
    }
   ],
   "source": [
    "twilight_df = calculations.get_inner_twilight_period(cleaned_df2015)\n",
    "twilight_df.head()"
   ]
  },
  {
   "cell_type": "code",
   "execution_count": 42,
   "metadata": {},
   "outputs": [],
   "source": [
    "vod_df = calculations.veil_of_darkness(twilight_df, notebook = True)"
   ]
  },
  {
   "cell_type": "code",
   "execution_count": 253,
   "metadata": {},
   "outputs": [],
   "source": [
    "dark_df = vod_df[vod_df['Dark']].reset_index(drop = True)\n",
    "light_df = vod_df[~vod_df['Dark']].reset_index(drop = True)"
   ]
  },
  {
   "cell_type": "code",
   "execution_count": 254,
   "metadata": {
    "scrolled": true
   },
   "outputs": [
    {
     "data": {
      "text/html": [
       "<div>\n",
       "<style scoped>\n",
       "    .dataframe tbody tr th:only-of-type {\n",
       "        vertical-align: middle;\n",
       "    }\n",
       "\n",
       "    .dataframe tbody tr th {\n",
       "        vertical-align: top;\n",
       "    }\n",
       "\n",
       "    .dataframe thead th {\n",
       "        text-align: right;\n",
       "    }\n",
       "</style>\n",
       "<table border=\"1\" class=\"dataframe\">\n",
       "  <thead>\n",
       "    <tr style=\"text-align: right;\">\n",
       "      <th></th>\n",
       "      <th>stop_id</th>\n",
       "      <th>stop_cause</th>\n",
       "      <th>service_area</th>\n",
       "      <th>subject_race</th>\n",
       "      <th>subject_sex</th>\n",
       "      <th>subject_age</th>\n",
       "      <th>date_stop</th>\n",
       "      <th>time_stop</th>\n",
       "      <th>arrested</th>\n",
       "      <th>searched</th>\n",
       "      <th>obtained_consent</th>\n",
       "      <th>contraband_found</th>\n",
       "      <th>property_seized</th>\n",
       "      <th>is_in_twilight</th>\n",
       "      <th>Month</th>\n",
       "      <th>Sunset</th>\n",
       "      <th>Dark</th>\n",
       "    </tr>\n",
       "  </thead>\n",
       "  <tbody>\n",
       "    <tr>\n",
       "      <td>0</td>\n",
       "      <td>1189890</td>\n",
       "      <td>Equipment Violation</td>\n",
       "      <td>430</td>\n",
       "      <td>Black/African American</td>\n",
       "      <td>Female</td>\n",
       "      <td>50.0</td>\n",
       "      <td>2015-01-01</td>\n",
       "      <td>2020-03-16 18:20:00</td>\n",
       "      <td>N</td>\n",
       "      <td>N</td>\n",
       "      <td>NaN</td>\n",
       "      <td>N</td>\n",
       "      <td>N</td>\n",
       "      <td>True</td>\n",
       "      <td>1</td>\n",
       "      <td>2020-03-16 18:18:00</td>\n",
       "      <td>True</td>\n",
       "    </tr>\n",
       "    <tr>\n",
       "      <td>1</td>\n",
       "      <td>1189895</td>\n",
       "      <td>Equipment Violation</td>\n",
       "      <td>310</td>\n",
       "      <td>Hispanic/Latino/a</td>\n",
       "      <td>Female</td>\n",
       "      <td>28.0</td>\n",
       "      <td>2015-01-01</td>\n",
       "      <td>2020-03-16 18:20:00</td>\n",
       "      <td>N</td>\n",
       "      <td>Y</td>\n",
       "      <td>N</td>\n",
       "      <td>N</td>\n",
       "      <td>N</td>\n",
       "      <td>True</td>\n",
       "      <td>1</td>\n",
       "      <td>2020-03-16 18:18:00</td>\n",
       "      <td>True</td>\n",
       "    </tr>\n",
       "    <tr>\n",
       "      <td>2</td>\n",
       "      <td>1189896</td>\n",
       "      <td>Equipment Violation</td>\n",
       "      <td>430</td>\n",
       "      <td>Hispanic/Latino/a</td>\n",
       "      <td>Female</td>\n",
       "      <td>50.0</td>\n",
       "      <td>2015-01-01</td>\n",
       "      <td>2020-03-16 18:30:00</td>\n",
       "      <td>N</td>\n",
       "      <td>N</td>\n",
       "      <td>NaN</td>\n",
       "      <td>N</td>\n",
       "      <td>N</td>\n",
       "      <td>True</td>\n",
       "      <td>1</td>\n",
       "      <td>2020-03-16 18:18:00</td>\n",
       "      <td>True</td>\n",
       "    </tr>\n",
       "    <tr>\n",
       "      <td>3</td>\n",
       "      <td>1189892</td>\n",
       "      <td>Equipment Violation</td>\n",
       "      <td>620</td>\n",
       "      <td>White</td>\n",
       "      <td>Male</td>\n",
       "      <td>39.0</td>\n",
       "      <td>2015-01-01</td>\n",
       "      <td>2020-03-16 18:30:00</td>\n",
       "      <td>N</td>\n",
       "      <td>N</td>\n",
       "      <td>NaN</td>\n",
       "      <td>N</td>\n",
       "      <td>N</td>\n",
       "      <td>True</td>\n",
       "      <td>1</td>\n",
       "      <td>2020-03-16 18:18:00</td>\n",
       "      <td>True</td>\n",
       "    </tr>\n",
       "    <tr>\n",
       "      <td>4</td>\n",
       "      <td>1189893</td>\n",
       "      <td>Moving Violation</td>\n",
       "      <td>830</td>\n",
       "      <td>Asian</td>\n",
       "      <td>Male</td>\n",
       "      <td>18.0</td>\n",
       "      <td>2015-01-01</td>\n",
       "      <td>2020-03-16 18:35:00</td>\n",
       "      <td>N</td>\n",
       "      <td>N</td>\n",
       "      <td>NaN</td>\n",
       "      <td>N</td>\n",
       "      <td>N</td>\n",
       "      <td>True</td>\n",
       "      <td>1</td>\n",
       "      <td>2020-03-16 18:18:00</td>\n",
       "      <td>True</td>\n",
       "    </tr>\n",
       "  </tbody>\n",
       "</table>\n",
       "</div>"
      ],
      "text/plain": [
       "   stop_id           stop_cause service_area            subject_race  \\\n",
       "0  1189890  Equipment Violation          430  Black/African American   \n",
       "1  1189895  Equipment Violation          310       Hispanic/Latino/a   \n",
       "2  1189896  Equipment Violation          430       Hispanic/Latino/a   \n",
       "3  1189892  Equipment Violation          620                   White   \n",
       "4  1189893     Moving Violation          830                   Asian   \n",
       "\n",
       "  subject_sex  subject_age   date_stop           time_stop arrested searched  \\\n",
       "0      Female         50.0  2015-01-01 2020-03-16 18:20:00        N        N   \n",
       "1      Female         28.0  2015-01-01 2020-03-16 18:20:00        N        Y   \n",
       "2      Female         50.0  2015-01-01 2020-03-16 18:30:00        N        N   \n",
       "3        Male         39.0  2015-01-01 2020-03-16 18:30:00        N        N   \n",
       "4        Male         18.0  2015-01-01 2020-03-16 18:35:00        N        N   \n",
       "\n",
       "  obtained_consent contraband_found property_seized  is_in_twilight  Month  \\\n",
       "0              NaN                N               N            True      1   \n",
       "1                N                N               N            True      1   \n",
       "2              NaN                N               N            True      1   \n",
       "3              NaN                N               N            True      1   \n",
       "4              NaN                N               N            True      1   \n",
       "\n",
       "               Sunset  Dark  \n",
       "0 2020-03-16 18:18:00  True  \n",
       "1 2020-03-16 18:18:00  True  \n",
       "2 2020-03-16 18:18:00  True  \n",
       "3 2020-03-16 18:18:00  True  \n",
       "4 2020-03-16 18:18:00  True  "
      ]
     },
     "execution_count": 254,
     "metadata": {},
     "output_type": "execute_result"
    }
   ],
   "source": [
    "dark_df.head()"
   ]
  },
  {
   "cell_type": "code",
   "execution_count": 255,
   "metadata": {
    "scrolled": true
   },
   "outputs": [
    {
     "data": {
      "text/html": [
       "<div>\n",
       "<style scoped>\n",
       "    .dataframe tbody tr th:only-of-type {\n",
       "        vertical-align: middle;\n",
       "    }\n",
       "\n",
       "    .dataframe tbody tr th {\n",
       "        vertical-align: top;\n",
       "    }\n",
       "\n",
       "    .dataframe thead th {\n",
       "        text-align: right;\n",
       "    }\n",
       "</style>\n",
       "<table border=\"1\" class=\"dataframe\">\n",
       "  <thead>\n",
       "    <tr style=\"text-align: right;\">\n",
       "      <th></th>\n",
       "      <th>stop_id</th>\n",
       "      <th>stop_cause</th>\n",
       "      <th>service_area</th>\n",
       "      <th>subject_race</th>\n",
       "      <th>subject_sex</th>\n",
       "      <th>subject_age</th>\n",
       "      <th>date_stop</th>\n",
       "      <th>time_stop</th>\n",
       "      <th>arrested</th>\n",
       "      <th>searched</th>\n",
       "      <th>obtained_consent</th>\n",
       "      <th>contraband_found</th>\n",
       "      <th>property_seized</th>\n",
       "      <th>is_in_twilight</th>\n",
       "      <th>Month</th>\n",
       "      <th>Sunset</th>\n",
       "      <th>Dark</th>\n",
       "    </tr>\n",
       "  </thead>\n",
       "  <tbody>\n",
       "    <tr>\n",
       "      <td>0</td>\n",
       "      <td>1189877</td>\n",
       "      <td>Moving Violation</td>\n",
       "      <td>310</td>\n",
       "      <td>Asian</td>\n",
       "      <td>Male</td>\n",
       "      <td>29.0</td>\n",
       "      <td>2015-01-01</td>\n",
       "      <td>2020-03-16 17:20:00</td>\n",
       "      <td>N</td>\n",
       "      <td>N</td>\n",
       "      <td>NaN</td>\n",
       "      <td>N</td>\n",
       "      <td>N</td>\n",
       "      <td>True</td>\n",
       "      <td>1</td>\n",
       "      <td>2020-03-16 18:18:00</td>\n",
       "      <td>False</td>\n",
       "    </tr>\n",
       "    <tr>\n",
       "      <td>1</td>\n",
       "      <td>1189878</td>\n",
       "      <td>Moving Violation</td>\n",
       "      <td>720</td>\n",
       "      <td>Black/African American</td>\n",
       "      <td>Male</td>\n",
       "      <td>24.0</td>\n",
       "      <td>2015-01-01</td>\n",
       "      <td>2020-03-16 17:23:00</td>\n",
       "      <td>N</td>\n",
       "      <td>N</td>\n",
       "      <td>NaN</td>\n",
       "      <td>N</td>\n",
       "      <td>N</td>\n",
       "      <td>True</td>\n",
       "      <td>1</td>\n",
       "      <td>2020-03-16 18:18:00</td>\n",
       "      <td>False</td>\n",
       "    </tr>\n",
       "    <tr>\n",
       "      <td>2</td>\n",
       "      <td>1189879</td>\n",
       "      <td>Equipment Violation</td>\n",
       "      <td>230</td>\n",
       "      <td>White</td>\n",
       "      <td>Male</td>\n",
       "      <td>16.0</td>\n",
       "      <td>2015-01-01</td>\n",
       "      <td>2020-03-16 17:25:00</td>\n",
       "      <td>N</td>\n",
       "      <td>N</td>\n",
       "      <td>NaN</td>\n",
       "      <td>N</td>\n",
       "      <td>N</td>\n",
       "      <td>True</td>\n",
       "      <td>1</td>\n",
       "      <td>2020-03-16 18:18:00</td>\n",
       "      <td>False</td>\n",
       "    </tr>\n",
       "    <tr>\n",
       "      <td>3</td>\n",
       "      <td>1189880</td>\n",
       "      <td>Equipment Violation</td>\n",
       "      <td>230</td>\n",
       "      <td>Hispanic/Latino/a</td>\n",
       "      <td>Male</td>\n",
       "      <td>47.0</td>\n",
       "      <td>2015-01-01</td>\n",
       "      <td>2020-03-16 17:26:00</td>\n",
       "      <td>N</td>\n",
       "      <td>N</td>\n",
       "      <td>NaN</td>\n",
       "      <td>N</td>\n",
       "      <td>N</td>\n",
       "      <td>True</td>\n",
       "      <td>1</td>\n",
       "      <td>2020-03-16 18:18:00</td>\n",
       "      <td>False</td>\n",
       "    </tr>\n",
       "    <tr>\n",
       "      <td>4</td>\n",
       "      <td>1189884</td>\n",
       "      <td>Equipment Violation</td>\n",
       "      <td>820</td>\n",
       "      <td>Hispanic/Latino/a</td>\n",
       "      <td>Male</td>\n",
       "      <td>24.0</td>\n",
       "      <td>2015-01-01</td>\n",
       "      <td>2020-03-16 17:32:00</td>\n",
       "      <td>N</td>\n",
       "      <td>N</td>\n",
       "      <td>NaN</td>\n",
       "      <td>N</td>\n",
       "      <td>N</td>\n",
       "      <td>True</td>\n",
       "      <td>1</td>\n",
       "      <td>2020-03-16 18:18:00</td>\n",
       "      <td>False</td>\n",
       "    </tr>\n",
       "  </tbody>\n",
       "</table>\n",
       "</div>"
      ],
      "text/plain": [
       "   stop_id           stop_cause service_area            subject_race  \\\n",
       "0  1189877     Moving Violation          310                   Asian   \n",
       "1  1189878     Moving Violation          720  Black/African American   \n",
       "2  1189879  Equipment Violation          230                   White   \n",
       "3  1189880  Equipment Violation          230       Hispanic/Latino/a   \n",
       "4  1189884  Equipment Violation          820       Hispanic/Latino/a   \n",
       "\n",
       "  subject_sex  subject_age   date_stop           time_stop arrested searched  \\\n",
       "0        Male         29.0  2015-01-01 2020-03-16 17:20:00        N        N   \n",
       "1        Male         24.0  2015-01-01 2020-03-16 17:23:00        N        N   \n",
       "2        Male         16.0  2015-01-01 2020-03-16 17:25:00        N        N   \n",
       "3        Male         47.0  2015-01-01 2020-03-16 17:26:00        N        N   \n",
       "4        Male         24.0  2015-01-01 2020-03-16 17:32:00        N        N   \n",
       "\n",
       "  obtained_consent contraband_found property_seized  is_in_twilight  Month  \\\n",
       "0              NaN                N               N            True      1   \n",
       "1              NaN                N               N            True      1   \n",
       "2              NaN                N               N            True      1   \n",
       "3              NaN                N               N            True      1   \n",
       "4              NaN                N               N            True      1   \n",
       "\n",
       "               Sunset   Dark  \n",
       "0 2020-03-16 18:18:00  False  \n",
       "1 2020-03-16 18:18:00  False  \n",
       "2 2020-03-16 18:18:00  False  \n",
       "3 2020-03-16 18:18:00  False  \n",
       "4 2020-03-16 18:18:00  False  "
      ]
     },
     "execution_count": 255,
     "metadata": {},
     "output_type": "execute_result"
    }
   ],
   "source": [
    "light_df.head()"
   ]
  },
  {
   "cell_type": "code",
   "execution_count": 256,
   "metadata": {
    "scrolled": false
   },
   "outputs": [
    {
     "data": {
      "image/png": "[encoded data removed]",
      "text/plain": [
       "<Figure size 432x288 with 1 Axes>"
      ]
     },
     "metadata": {
      "needs_background": "light"
     },
     "output_type": "display_data"
    }
   ],
   "source": [
    "visualize.plot_light_dark(light_df, dark_df, 2015)"
   ]
  },
  {
   "cell_type": "code",
   "execution_count": 273,
   "metadata": {},
   "outputs": [
    {
     "data": {
      "text/plain": [
       "Ks_2sampResult(statistic=0.25, pvalue=0.98010878010878)"
      ]
     },
     "execution_count": 273,
     "metadata": {},
     "output_type": "execute_result"
    }
   ],
   "source": [
    "calculations.calc_ks(light_df, dark_df)"
   ]
  },
  {
   "cell_type": "markdown",
   "metadata": {},
   "source": [
    "It seems fairly evident by the graph of these stop rates that the difference in these two distributions is negligible, which the KS Test statistics agree with, as the very high pvalue (.9801) indicates that there is very little difference between them. Both of these facts lead me to conclude that, according to the theory behind the Veil of Darkness, San Diego police officers don't act on racial prejudices when pulling over drivers.\n",
    "\n",
    "There are some short comings to the Veil of Darkness, however, that should be addressed before taking this conclusion as gospel. The first of these is that it does not account for artificial light: just because it is dark outside doesn't necessarily mean that the officer couldn't identify the driver. Depending on the lighting on the street, how bright the moon was that night, and other factors, it's very possible that an officer could still differentiate race, at least on the most basic of levels.\n",
    "\n",
    "The second issue is that, while this may indicate that the SDPD doesn't operate on prejudices when stopping drivers, it certainly does not mean that those prejudices don't exist and aren't acted upon at other times: an important distinction that may become lost in the initial conclusion. This is evidenced in our post-stop outcomes calculations from before: certain minorities (black drivers especially) were treated with far more harshness than their white counterparts, an important thing to remember before one attempts to use the Veil of Darkness to disregard claims of racial bias."
   ]
  },
  {
   "cell_type": "markdown",
   "metadata": {},
   "source": [
    "## Beyond the SDSU Study and Conclusion"
   ]
  },
  {
   "cell_type": "markdown",
   "metadata": {},
   "source": [
    "Moving beyond the initial SDSU study, which only calculated these statistics for 2015, I wanted to dig deeper and see if anything changed with regards to these numbers in the following years (2016 and 2017), thinking that perhaps the growing hostility surrounding politics may have had an effect on these statistics."
   ]
  },
  {
   "cell_type": "code",
   "execution_count": 173,
   "metadata": {},
   "outputs": [],
   "source": [
    "df2016 = pd.read_csv('../data/raw/2016.csv')\n",
    "df2017 = pd.read_csv('../data/raw/2017.csv')"
   ]
  },
  {
   "cell_type": "code",
   "execution_count": 174,
   "metadata": {},
   "outputs": [],
   "source": [
    "cleaned_df2016 = cleaning.clean_2014_2017(df2016)\n",
    "cleaned_df2017 = cleaning.clean_2014_2017(df2017)"
   ]
  },
  {
   "cell_type": "code",
   "execution_count": 176,
   "metadata": {},
   "outputs": [],
   "source": [
    "twilight_df_2016 = calculations.get_inner_twilight_period(cleaned_df2016)\n",
    "twilight_df_2017 = calculations.get_inner_twilight_period(cleaned_df2017)"
   ]
  },
  {
   "cell_type": "code",
   "execution_count": 178,
   "metadata": {},
   "outputs": [],
   "source": [
    "vod_df_2016 = calculations.veil_of_darkness(twilight_df_2016, notebook = True)\n",
    "vod_df_2017 = calculations.veil_of_darkness(twilight_df_2017, notebook = True)"
   ]
  },
  {
   "cell_type": "code",
   "execution_count": 180,
   "metadata": {},
   "outputs": [],
   "source": [
    "dark_df_2016 = vod_df_2016[vod_df_2016['Dark']].reset_index(drop = True)\n",
    "dark_df_2017 = vod_df_2017[vod_df_2017['Dark']].reset_index(drop = True)"
   ]
  },
  {
   "cell_type": "code",
   "execution_count": 181,
   "metadata": {},
   "outputs": [],
   "source": [
    "light_df_2016 = vod_df_2016[~vod_df_2016['Dark']].reset_index(drop = True)\n",
    "light_df_2017 = vod_df_2017[~vod_df_2017['Dark']].reset_index(drop = True)"
   ]
  },
  {
   "cell_type": "code",
   "execution_count": 282,
   "metadata": {
    "scrolled": false
   },
   "outputs": [
    {
     "data": {
      "image/png": "[encoded data removed]",
      "text/plain": [
       "<Figure size 432x288 with 1 Axes>"
      ]
     },
     "metadata": {
      "needs_background": "light"
     },
     "output_type": "display_data"
    }
   ],
   "source": [
    "visualize.plot_light_dark(light_df_2016, dark_df_2016, 2016)"
   ]
  },
  {
   "cell_type": "code",
   "execution_count": 274,
   "metadata": {},
   "outputs": [
    {
     "data": {
      "text/plain": [
       "Ks_2sampResult(statistic=0.25, pvalue=0.98010878010878)"
      ]
     },
     "execution_count": 274,
     "metadata": {},
     "output_type": "execute_result"
    }
   ],
   "source": [
    "calculations.calc_ks(light_df_2016, dark_df_2016)"
   ]
  },
  {
   "cell_type": "code",
   "execution_count": 227,
   "metadata": {},
   "outputs": [
    {
     "data": {
      "image/png": "[encoded data removed]",
      "text/plain": [
       "<Figure size 432x288 with 1 Axes>"
      ]
     },
     "metadata": {
      "needs_background": "light"
     },
     "output_type": "display_data"
    }
   ],
   "source": [
    "visualize.plot_light_dark(light_df_2017, dark_df_2017, 2017)"
   ]
  },
  {
   "cell_type": "code",
   "execution_count": 279,
   "metadata": {},
   "outputs": [
    {
     "data": {
      "text/plain": [
       "Ks_2sampResult(statistic=0.125, pvalue=1.0)"
      ]
     },
     "execution_count": 279,
     "metadata": {},
     "output_type": "execute_result"
    }
   ],
   "source": [
    "calculations.calc_ks(light_df_2017, dark_df_2017)"
   ]
  },
  {
   "cell_type": "markdown",
   "metadata": {},
   "source": [
    "It turned out however, that the stop rates maintained their consistency from light to dark, indicating that the change in political climate had no difference in the behavior of police while stopping drivers. Ultimately, the Veil of Darkness is a very good tool for determining when stop rates are biased, and can yield very informative results, but it is important to keep those results in context when attempting to draw conclusions about race in America."
   ]
  }
 ],
 "metadata": {
  "kernelspec": {
   "display_name": "Python 3",
   "language": "python",
   "name": "python3"
  },
  "language_info": {
   "codemirror_mode": {
    "name": "ipython",
    "version": 3
   },
   "file_extension": ".py",
   "mimetype": "text/x-python",
   "name": "python",
   "nbconvert_exporter": "python",
   "pygments_lexer": "ipython3",
   "version": "3.7.4"
  }
 },
 "nbformat": 4,
 "nbformat_minor": 2
}
