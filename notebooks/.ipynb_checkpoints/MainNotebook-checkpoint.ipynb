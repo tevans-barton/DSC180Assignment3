{
 "cells": [
  {
   "cell_type": "markdown",
   "metadata": {},
   "source": [
    "# DSC 180: Assignment 3"
   ]
  },
  {
   "cell_type": "markdown",
   "metadata": {},
   "source": [
    "### Tommy Evans-Barton"
   ]
  },
  {
   "cell_type": "markdown",
   "metadata": {},
   "source": [
    "## Introduction"
   ]
  },
  {
   "cell_type": "markdown",
   "metadata": {},
   "source": [
    "***WILL ADD INTRODUCTION HERE***"
   ]
  },
  {
   "cell_type": "code",
   "execution_count": 1,
   "metadata": {
    "scrolled": true
   },
   "outputs": [],
   "source": [
    "import pandas as pd\n",
    "import numpy as np\n",
    "import geopandas as gpd\n",
    "import os\n",
    "import json\n",
    "import sys\n",
    "import matplotlib.pyplot as plt"
   ]
  },
  {
   "cell_type": "code",
   "execution_count": 2,
   "metadata": {},
   "outputs": [],
   "source": [
    "sys.path.append('../')\n",
    "sys.path.append('../src/data')\n",
    "sys.path.append('../src/processing')"
   ]
  },
  {
   "cell_type": "code",
   "execution_count": 3,
   "metadata": {},
   "outputs": [],
   "source": [
    "from etl import get_data\n",
    "import cleaning"
   ]
  },
  {
   "cell_type": "code",
   "execution_count": 4,
   "metadata": {},
   "outputs": [],
   "source": [
    "%load_ext autoreload\n",
    "%autoreload 2"
   ]
  },
  {
   "cell_type": "markdown",
   "metadata": {},
   "source": [
    "## Get Data"
   ]
  },
  {
   "cell_type": "markdown",
   "metadata": {},
   "source": [
    "***INTRODUCTION TO DATA AND DGP***"
   ]
  },
  {
   "cell_type": "code",
   "execution_count": 5,
   "metadata": {},
   "outputs": [],
   "source": [
    "file_path = '../config/data-params.json'\n",
    "cfg = json.load(open(file_path))"
   ]
  },
  {
   "cell_type": "code",
   "execution_count": null,
   "metadata": {},
   "outputs": [],
   "source": [
    "get_data(**cfg)"
   ]
  },
  {
   "cell_type": "code",
   "execution_count": 31,
   "metadata": {},
   "outputs": [],
   "source": [
    "df2015 = pd.read_csv('../data/2015.csv')\n",
    "df2018_2019 = pd.read_csv('../data/2018-2019.csv')[['stop_id', 'reason_for_stop', 'beat', 'race', 'perceived_gender', 'perceived_age', \n",
    "                          'date_stop', 'time_stop', 'result', 'basis_for_search', 'action', 'consented', \n",
    "                          'contraband', 'type_of_property_seized']]"
   ]
  },
  {
   "cell_type": "markdown",
   "metadata": {},
   "source": [
    "## Assessing the Validity of the Data"
   ]
  },
  {
   "cell_type": "code",
   "execution_count": 32,
   "metadata": {},
   "outputs": [
    {
     "data": {
      "image/png": "[encoded data removed]",
      "text/plain": [
       "<Figure size 432x288 with 1 Axes>"
      ]
     },
     "metadata": {
      "needs_background": "light"
     },
     "output_type": "display_data"
    }
   ],
   "source": [
    "null_plot_2015 = df2015.isnull().mean().plot(kind = 'bar')"
   ]
  },
  {
   "cell_type": "code",
   "execution_count": 33,
   "metadata": {},
   "outputs": [
    {
     "data": {
      "image/png": "[encoded data removed]",
      "text/plain": [
       "<Figure size 432x288 with 1 Axes>"
      ]
     },
     "metadata": {
      "needs_background": "light"
     },
     "output_type": "display_data"
    }
   ],
   "source": [
    "null_plot_2018_2019 = df2018_2019.isnull().mean().plot(kind = 'bar')"
   ]
  },
  {
   "cell_type": "markdown",
   "metadata": {},
   "source": [
    "Here we see that there are a lot of missing values for entries in the consent, contraband, and property seized areas. However, this is most likely not an issue, as Nan is probably an encoding for 'No', as we currently understand the dataset."
   ]
  },
  {
   "cell_type": "markdown",
   "metadata": {},
   "source": [
    "### Accuracy\n",
    "#### Stop Cause"
   ]
  },
  {
   "cell_type": "code",
   "execution_count": 34,
   "metadata": {},
   "outputs": [
    {
     "data": {
      "text/plain": [
       "Moving Violation                      86397\n",
       "Equipment Violation                   27460\n",
       "Radio Call/Citizen Contact              497\n",
       "Muni, County, H&S Code                  348\n",
       "Personal Knowledge/Informant            251\n",
       "No Cause Specified on a Card            195\n",
       "Suspect Info (I.S., Bulletin, Log)      159\n",
       "MUNI, County, H&S Code                   15\n",
       "Personal Observ/Knowledge                12\n",
       "Other                                     7\n",
       "none listed                               6\n",
       "not marked                                4\n",
       "&Moving Violation                         3\n",
       "UNI, &County, H&&S Code                   3\n",
       "Suspect Info                              2\n",
       "NOT SPECIFIED                             2\n",
       "NOT MARKED                                2\n",
       "NOTHING MARKED                            2\n",
       "not noted                                 2\n",
       "NOT CHECKED                               1\n",
       "f25                                       1\n",
       "not marked  not marked                    1\n",
       "not secified                              1\n",
       "wm23                                      1\n",
       "not listed                                1\n",
       "CAUSE NOT LISTED ACTION NOT LISTED        1\n",
       "none noted                                1\n",
       "Pedestrian                                1\n",
       "Name: stop_cause, dtype: int64"
      ]
     },
     "execution_count": 34,
     "metadata": {},
     "output_type": "execute_result"
    }
   ],
   "source": [
    "df2015.stop_cause.value_counts()"
   ]
  },
  {
   "cell_type": "markdown",
   "metadata": {},
   "source": [
    "As we can see here, there are accuracy issues with `stop_cause` in the 2015 dataset, as there are several stop causes that don't seem to have any rational sense to them, or that are irrelevant to our investivation e.g.:\n",
    "\n",
    "    - wm23\n",
    "    - f25\n",
    "    - Pedestrian\n",
    "    \n",
    "as well as many different versions of `Null` that do not appear in our initial scan of incomplete entries:\n",
    "    \n",
    "    - No Cause Specified on a Card\n",
    "    - none listed\n",
    "    - not marked\n",
    "    - not noted\n",
    "    - NOT SPECIFIED\n",
    "    - NOTHING MARKED\n",
    "    - NOT MARKED\n",
    "    - not marked  not marked\n",
    "    - not listed\n",
    "    - not secified\n",
    "    - none noted\n",
    "    - NOT CHECKED\n",
    "    - CAUSE NOT LISTED ACTION NOT LISTED\n",
    "    - Other\n",
    "\n",
    "All told, these values account for 229 entries, or roughly .2% of the data in 2015. This most likely means they can be ignored, as this is truly not a significant portion of the entries for this data.\n",
    "    "
   ]
  },
  {
   "cell_type": "code",
   "execution_count": 35,
   "metadata": {},
   "outputs": [
    {
     "data": {
      "text/plain": [
       "array([nan, '26', '40', '37', '29', '23', '24', '31', '60', '54', '42',\n",
       "       '50', '30', '22', '41', '27', '48', '20', '28', '34', '44', '21',\n",
       "       '49', '25', '58', '45', '59', '66', '64', '47', '32', '63', '52',\n",
       "       '57', '70', '35', '19', '68', '55', '62', '65', '53', '46', '38',\n",
       "       '75', '43', '74', '97', '79', '72', '16', '76', '39', '18', '17',\n",
       "       '61', '56', '51', '36', '33', '77', '73', '83', '5', '71', '67',\n",
       "       '69', '81', '78', '90', '213', '80', '222', '84', '88', '85', '0',\n",
       "       '4', '82', '99', '91', '89', '6', '87', '7', '15', '86', '1', '2_',\n",
       "       '93', '3', '8', '4_', 'No Age', '1020', 'y', '223', 'f', '345',\n",
       "       'h', '125', '3.7', 'j', '3_', '243', '224', '399', 'f26', '32`',\n",
       "       '13', '14', '9', '11', 'x', '92', '55Q', 'F48', '456', '2005', '`',\n",
       "       '233', '96', '701', '387', '180', 'f28', 'Y', 'NN', '10', '173',\n",
       "       '2', '98', '94', '100'], dtype=object)"
      ]
     },
     "execution_count": 35,
     "metadata": {},
     "output_type": "execute_result"
    }
   ],
   "source": [
    "df2015.subject_age.unique()"
   ]
  },
  {
   "cell_type": "code",
   "execution_count": 36,
   "metadata": {},
   "outputs": [
    {
     "data": {
      "text/plain": [
       "array([ 25,  30,  23,  22,  37,  28,  50,  60,  35,  20,  40,  62,  42,\n",
       "        45,  24,  27,  14,  48,  21,  55,  26,  59,  53,  43,  70,  19,\n",
       "        52,  33,  63,  18,  32,  29,  38,  31,  76,  65,  54,  56,  67,\n",
       "        47,  69,  58,  16,  36,  79,  68,  57,  17,  75,  44,   9,  51,\n",
       "        41,  49,  80,  90,  64,  34,  15,  10,  46,  39,  66,  61,   5,\n",
       "        72,  85,  13,  71,  74,  88,  91,  82, 120,   2,  73,  81,  12,\n",
       "        99,  78,  11,   6,  84,  94,  77,   1,   7,   8, 100,  83,  92,\n",
       "       110,  93, 115, 116, 118,  86,  89,   4,  87, 103,  95,  97,  96,\n",
       "        98])"
      ]
     },
     "execution_count": 36,
     "metadata": {},
     "output_type": "execute_result"
    }
   ],
   "source": [
    "df2018_2019.perceived_age.unique()"
   ]
  },
  {
   "cell_type": "markdown",
   "metadata": {},
   "source": [
    "Within the `age` columns, there are several values that don't match what we would expect in the real world:\n",
    "\n",
    "`2015` Data:\n",
    "    - 213\n",
    "    - 0\n",
    "    - 1020\n",
    "    - 223\n",
    "    - 345\n",
    "    - 125\n",
    "    - 3.7\n",
    "    - 243\n",
    "    - 399\n",
    "    - 456\n",
    "    - 2005\n",
    "    - 701\n",
    "    - 387\n",
    "    - Several ages under 16 (the legal driving age, only making sense if listed as passengers)\n",
    "    - etc.\n",
    "  \n",
    "`2018-2019` also suffers from large numbers, but in a much lower quantity/variety, and with much less reasonable outliers (120 being the largest number present), causing us to accept the fact that perhaps there were a small number of centenarians stopped by the police in this time period.\n",
    "\n",
    "`2015` data also suffers from nonsensical entries such as:\n",
    "    - 4_\n",
    "    - 55Q\n",
    "    - Y\n",
    "    - NN\n",
    "    - j\n",
    "    - F48\n",
    "    - f\n",
    "    - x\n",
    "    - etc.\n",
    "\n",
    "`2018-2019` fortunately does not contain these illogical types.\n",
    "\n",
    "These differing entries will force us to most likely make anything that does not make logical sense into a non-entry, as it would be impossible to guess at what a police officer meant when putting in this information, and we want to 'poison' our dataset as little as possible."
   ]
  },
  {
   "cell_type": "markdown",
   "metadata": {},
   "source": [
    "#### Arrested/Searched"
   ]
  },
  {
   "cell_type": "code",
   "execution_count": 37,
   "metadata": {},
   "outputs": [
    {
     "data": {
      "text/plain": [
       "N    102965\n",
       "n      2268\n",
       "Y      1339\n",
       "y         7\n",
       "          6\n",
       "M         1\n",
       "b         1\n",
       "Name: arrested, dtype: int64"
      ]
     },
     "execution_count": 37,
     "metadata": {},
     "output_type": "execute_result"
    }
   ],
   "source": [
    "df2015.arrested.value_counts()"
   ]
  },
  {
   "cell_type": "code",
   "execution_count": 38,
   "metadata": {},
   "outputs": [
    {
     "data": {
      "text/plain": [
       "N    99299\n",
       "Y     4354\n",
       "n     2300\n",
       "y       23\n",
       "         7\n",
       "b        1\n",
       "Name: searched, dtype: int64"
      ]
     },
     "execution_count": 38,
     "metadata": {},
     "output_type": "execute_result"
    }
   ],
   "source": [
    "df2015.searched.value_counts()"
   ]
  },
  {
   "cell_type": "markdown",
   "metadata": {},
   "source": [
    "Finally, in terms of accuracy, the `2015` data has some strange entires such as b and M for the `searched` and `arrested` columns, such as `b` and `M`. Thankfully, these do not obscure much information, as they are small portions of the data set."
   ]
  },
  {
   "cell_type": "markdown",
   "metadata": {},
   "source": [
    "### Precision"
   ]
  },
  {
   "cell_type": "markdown",
   "metadata": {},
   "source": [
    "#### RACE AND GENDER"
   ]
  },
  {
   "cell_type": "markdown",
   "metadata": {},
   "source": [
    "A lot of the precision issues revolve around the way in which `race` and `sex/gender` are encoded differently between the two formats of data (2014-2017 vs. 2018-2019)."
   ]
  },
  {
   "cell_type": "code",
   "execution_count": 39,
   "metadata": {},
   "outputs": [
    {
     "data": {
      "text/plain": [
       "array(['W', 'B', 'A', 'H', 'O', 'C', 'F', 'K', 'Z', 'U', 'V', 'D', 'P',\n",
       "       'I', 'L', 'G', 'J', 'X', nan, 'S'], dtype=object)"
      ]
     },
     "execution_count": 39,
     "metadata": {},
     "output_type": "execute_result"
    }
   ],
   "source": [
    "df2015.subject_race.unique()"
   ]
  },
  {
   "cell_type": "code",
   "execution_count": 40,
   "metadata": {},
   "outputs": [
    {
     "data": {
      "text/plain": [
       "array(['White', 'Hispanic/Latino/a', 'Black/African American',\n",
       "       'Native American', 'Middle Eastern or South Asian', 'Asian',\n",
       "       'Pacific Islander'], dtype=object)"
      ]
     },
     "execution_count": 40,
     "metadata": {},
     "output_type": "execute_result"
    }
   ],
   "source": [
    "df2018_2019.race.unique()"
   ]
  },
  {
   "cell_type": "code",
   "execution_count": 41,
   "metadata": {},
   "outputs": [
    {
     "data": {
      "text/plain": [
       "array(['F', 'M', nan, 'X'], dtype=object)"
      ]
     },
     "execution_count": 41,
     "metadata": {},
     "output_type": "execute_result"
    }
   ],
   "source": [
    "df2015.subject_sex.unique()"
   ]
  },
  {
   "cell_type": "code",
   "execution_count": 42,
   "metadata": {},
   "outputs": [
    {
     "data": {
      "text/plain": [
       "array(['Male', 'Female', 'Transgender woman/girl', nan,\n",
       "       'Transgender man/boy'], dtype=object)"
      ]
     },
     "execution_count": 42,
     "metadata": {},
     "output_type": "execute_result"
    }
   ],
   "source": [
    "df2018_2019.perceived_gender.unique()"
   ]
  },
  {
   "cell_type": "markdown",
   "metadata": {},
   "source": [
    "As seen above, the 2014-2017 data has far more specific encodings of race, while 2018-2019 data has a far less precise version of the same information. On the other hand, 2018-2019 encode for gender, while 2014-2017 encode for sex, which allows for 2018-2019 to have more precision/a field that is more indicative of the important information in this field.\n",
    "\n",
    "In addition to such information, the 2018-2019 data has far more specific information on what causes a stop, the results of stops, and the contraband/property seized by the police, while 2014-2017 mainly encode this information with a binary Yes/No entry.\n",
    "\n",
    "This change in granularity forces us to go to the less specific instance in each case when cleaning the data, as we would like our datasets for the different years to be as uniform as possible in their representations, and therefore we must go to the less granular versions as this is an easier change to make."
   ]
  },
  {
   "cell_type": "markdown",
   "metadata": {},
   "source": [
    "#### Age"
   ]
  },
  {
   "cell_type": "code",
   "execution_count": 43,
   "metadata": {},
   "outputs": [],
   "source": [
    "age_for_plot_2015 = [int(x) for x in df2015.subject_age if isinstance(x, str) and x.isnumeric()]"
   ]
  },
  {
   "cell_type": "code",
   "execution_count": 44,
   "metadata": {},
   "outputs": [
    {
     "data": {
      "image/png": "[encoded data removed]",
      "text/plain": [
       "<Figure size 432x288 with 1 Axes>"
      ]
     },
     "metadata": {
      "needs_background": "light"
     },
     "output_type": "display_data"
    }
   ],
   "source": [
    "age_2015_plot = plt.hist(age_for_plot_2015, bins = np.arange(16, 60))\n",
    "title_2015 = plt.title('2015 Age Distribution')"
   ]
  },
  {
   "cell_type": "code",
   "execution_count": 45,
   "metadata": {},
   "outputs": [],
   "source": [
    "age_for_plot_2018 = [int(x) for x in df2018_2019.perceived_age if isinstance(x, str) and x.isnumeric()]"
   ]
  },
  {
   "cell_type": "code",
   "execution_count": 46,
   "metadata": {},
   "outputs": [
    {
     "data": {
      "image/png": "[encoded data removed]",
      "text/plain": [
       "<Figure size 432x288 with 1 Axes>"
      ]
     },
     "metadata": {
      "needs_background": "light"
     },
     "output_type": "display_data"
    }
   ],
   "source": [
    "age_plot_2018 = plt.hist(age_for_plot_2015, bins = np.arange(16, 60))\n",
    "title_2018 = plt.title('2018-2019 Age Distribution')"
   ]
  },
  {
   "cell_type": "markdown",
   "metadata": {},
   "source": [
    "Another example of some precision issues appears in the distribution of the ages. As you can see, there are higher than expected spikes at the 5 and 10 year increments, which seems to imply some rounding done by the officers filling out the cards."
   ]
  },
  {
   "cell_type": "markdown",
   "metadata": {},
   "source": [
    "## Data Cleaning"
   ]
  },
  {
   "cell_type": "code",
   "execution_count": 47,
   "metadata": {},
   "outputs": [
    {
     "data": {
      "text/html": [
       "<div>\n",
       "<style scoped>\n",
       "    .dataframe tbody tr th:only-of-type {\n",
       "        vertical-align: middle;\n",
       "    }\n",
       "\n",
       "    .dataframe tbody tr th {\n",
       "        vertical-align: top;\n",
       "    }\n",
       "\n",
       "    .dataframe thead th {\n",
       "        text-align: right;\n",
       "    }\n",
       "</style>\n",
       "<table border=\"1\" class=\"dataframe\">\n",
       "  <thead>\n",
       "    <tr style=\"text-align: right;\">\n",
       "      <th></th>\n",
       "      <th>stop_id</th>\n",
       "      <th>stop_cause</th>\n",
       "      <th>service_area</th>\n",
       "      <th>subject_race</th>\n",
       "      <th>subject_sex</th>\n",
       "      <th>subject_age</th>\n",
       "      <th>date_stop</th>\n",
       "      <th>time_stop</th>\n",
       "      <th>arrested</th>\n",
       "      <th>searched</th>\n",
       "      <th>obtained_consent</th>\n",
       "      <th>contraband_found</th>\n",
       "      <th>property_seized</th>\n",
       "    </tr>\n",
       "  </thead>\n",
       "  <tbody>\n",
       "    <tr>\n",
       "      <td>0</td>\n",
       "      <td>1191287</td>\n",
       "      <td>Moving Violation</td>\n",
       "      <td>430</td>\n",
       "      <td>White</td>\n",
       "      <td>Female</td>\n",
       "      <td>NaN</td>\n",
       "      <td>2015-01-01</td>\n",
       "      <td>NaN</td>\n",
       "      <td>N</td>\n",
       "      <td>N</td>\n",
       "      <td>NaN</td>\n",
       "      <td>N</td>\n",
       "      <td>N</td>\n",
       "    </tr>\n",
       "    <tr>\n",
       "      <td>1</td>\n",
       "      <td>1191295</td>\n",
       "      <td>Moving Violation</td>\n",
       "      <td>520</td>\n",
       "      <td>Black/African American</td>\n",
       "      <td>Male</td>\n",
       "      <td>NaN</td>\n",
       "      <td>2015-01-01</td>\n",
       "      <td>NaN</td>\n",
       "      <td>N</td>\n",
       "      <td>N</td>\n",
       "      <td>NaN</td>\n",
       "      <td>N</td>\n",
       "      <td>N</td>\n",
       "    </tr>\n",
       "    <tr>\n",
       "      <td>2</td>\n",
       "      <td>1191275</td>\n",
       "      <td>Moving Violation</td>\n",
       "      <td>430</td>\n",
       "      <td>Black/African American</td>\n",
       "      <td>Male</td>\n",
       "      <td>NaN</td>\n",
       "      <td>2015-01-01</td>\n",
       "      <td>NaN</td>\n",
       "      <td>N</td>\n",
       "      <td>N</td>\n",
       "      <td>NaN</td>\n",
       "      <td>N</td>\n",
       "      <td>N</td>\n",
       "    </tr>\n",
       "    <tr>\n",
       "      <td>3</td>\n",
       "      <td>1191308</td>\n",
       "      <td>Moving Violation</td>\n",
       "      <td>520</td>\n",
       "      <td>White</td>\n",
       "      <td>Male</td>\n",
       "      <td>NaN</td>\n",
       "      <td>2015-01-01</td>\n",
       "      <td>NaN</td>\n",
       "      <td>N</td>\n",
       "      <td>N</td>\n",
       "      <td>NaN</td>\n",
       "      <td>N</td>\n",
       "      <td>N</td>\n",
       "    </tr>\n",
       "    <tr>\n",
       "      <td>4</td>\n",
       "      <td>1191285</td>\n",
       "      <td>Moving Violation</td>\n",
       "      <td>430</td>\n",
       "      <td>White</td>\n",
       "      <td>Female</td>\n",
       "      <td>NaN</td>\n",
       "      <td>2015-01-01</td>\n",
       "      <td>NaN</td>\n",
       "      <td>N</td>\n",
       "      <td>N</td>\n",
       "      <td>NaN</td>\n",
       "      <td>N</td>\n",
       "      <td>N</td>\n",
       "    </tr>\n",
       "  </tbody>\n",
       "</table>\n",
       "</div>"
      ],
      "text/plain": [
       "   stop_id        stop_cause service_area            subject_race subject_sex  \\\n",
       "0  1191287  Moving Violation          430                   White      Female   \n",
       "1  1191295  Moving Violation          520  Black/African American        Male   \n",
       "2  1191275  Moving Violation          430  Black/African American        Male   \n",
       "3  1191308  Moving Violation          520                   White        Male   \n",
       "4  1191285  Moving Violation          430                   White      Female   \n",
       "\n",
       "   subject_age   date_stop time_stop arrested searched obtained_consent  \\\n",
       "0          NaN  2015-01-01       NaN        N        N              NaN   \n",
       "1          NaN  2015-01-01       NaN        N        N              NaN   \n",
       "2          NaN  2015-01-01       NaN        N        N              NaN   \n",
       "3          NaN  2015-01-01       NaN        N        N              NaN   \n",
       "4          NaN  2015-01-01       NaN        N        N              NaN   \n",
       "\n",
       "  contraband_found property_seized  \n",
       "0                N               N  \n",
       "1                N               N  \n",
       "2                N               N  \n",
       "3                N               N  \n",
       "4                N               N  "
      ]
     },
     "execution_count": 47,
     "metadata": {},
     "output_type": "execute_result"
    }
   ],
   "source": [
    "cleaned_df2015 = cleaning.clean_2014_2017(df2015)\n",
    "cleaned_df2015.head()"
   ]
  },
  {
   "cell_type": "code",
   "execution_count": 66,
   "metadata": {},
   "outputs": [
    {
     "data": {
      "text/html": [
       "<div>\n",
       "<style scoped>\n",
       "    .dataframe tbody tr th:only-of-type {\n",
       "        vertical-align: middle;\n",
       "    }\n",
       "\n",
       "    .dataframe tbody tr th {\n",
       "        vertical-align: top;\n",
       "    }\n",
       "\n",
       "    .dataframe thead th {\n",
       "        text-align: right;\n",
       "    }\n",
       "</style>\n",
       "<table border=\"1\" class=\"dataframe\">\n",
       "  <thead>\n",
       "    <tr style=\"text-align: right;\">\n",
       "      <th></th>\n",
       "      <th>stop_id</th>\n",
       "      <th>stop_cause</th>\n",
       "      <th>service_area</th>\n",
       "      <th>subject_race</th>\n",
       "      <th>perceived_gender</th>\n",
       "      <th>subject_age</th>\n",
       "      <th>date_stop</th>\n",
       "      <th>time_stop</th>\n",
       "      <th>arrested</th>\n",
       "      <th>searched</th>\n",
       "      <th>obtained_consent</th>\n",
       "      <th>contraband_found</th>\n",
       "      <th>property_seized</th>\n",
       "    </tr>\n",
       "  </thead>\n",
       "  <tbody>\n",
       "    <tr>\n",
       "      <td>0</td>\n",
       "      <td>2443</td>\n",
       "      <td>Reasonable Suspicion</td>\n",
       "      <td>120.0</td>\n",
       "      <td>White</td>\n",
       "      <td>Male</td>\n",
       "      <td>25</td>\n",
       "      <td>2018-07-01</td>\n",
       "      <td>00:01:37</td>\n",
       "      <td>Y</td>\n",
       "      <td>N</td>\n",
       "      <td>NaN</td>\n",
       "      <td>N</td>\n",
       "      <td>N</td>\n",
       "    </tr>\n",
       "    <tr>\n",
       "      <td>1</td>\n",
       "      <td>2444</td>\n",
       "      <td>Traffic Violation</td>\n",
       "      <td>120.0</td>\n",
       "      <td>White</td>\n",
       "      <td>Male</td>\n",
       "      <td>25</td>\n",
       "      <td>2018-07-01</td>\n",
       "      <td>00:03:34</td>\n",
       "      <td>N</td>\n",
       "      <td>N</td>\n",
       "      <td>NaN</td>\n",
       "      <td>N</td>\n",
       "      <td>N</td>\n",
       "    </tr>\n",
       "    <tr>\n",
       "      <td>2</td>\n",
       "      <td>2447</td>\n",
       "      <td>Reasonable Suspicion</td>\n",
       "      <td>820.0</td>\n",
       "      <td>Hispanic/Latino/a</td>\n",
       "      <td>Male</td>\n",
       "      <td>30</td>\n",
       "      <td>2018-07-01</td>\n",
       "      <td>00:05:43</td>\n",
       "      <td>N</td>\n",
       "      <td>N</td>\n",
       "      <td>NaN</td>\n",
       "      <td>N</td>\n",
       "      <td>N</td>\n",
       "    </tr>\n",
       "    <tr>\n",
       "      <td>3</td>\n",
       "      <td>2448</td>\n",
       "      <td>Traffic Violation</td>\n",
       "      <td>610.0</td>\n",
       "      <td>White</td>\n",
       "      <td>Male</td>\n",
       "      <td>23</td>\n",
       "      <td>2018-07-01</td>\n",
       "      <td>00:19:06</td>\n",
       "      <td>N</td>\n",
       "      <td>N</td>\n",
       "      <td>NaN</td>\n",
       "      <td>N</td>\n",
       "      <td>N</td>\n",
       "    </tr>\n",
       "    <tr>\n",
       "      <td>4</td>\n",
       "      <td>2449</td>\n",
       "      <td>Reasonable Suspicion</td>\n",
       "      <td>110.0</td>\n",
       "      <td>White</td>\n",
       "      <td>Male</td>\n",
       "      <td>25</td>\n",
       "      <td>2018-07-01</td>\n",
       "      <td>00:03:00</td>\n",
       "      <td>Y</td>\n",
       "      <td>Y</td>\n",
       "      <td>NaN</td>\n",
       "      <td>N</td>\n",
       "      <td>N</td>\n",
       "    </tr>\n",
       "  </tbody>\n",
       "</table>\n",
       "</div>"
      ],
      "text/plain": [
       "   stop_id            stop_cause  service_area       subject_race  \\\n",
       "0     2443  Reasonable Suspicion         120.0              White   \n",
       "1     2444     Traffic Violation         120.0              White   \n",
       "2     2447  Reasonable Suspicion         820.0  Hispanic/Latino/a   \n",
       "3     2448     Traffic Violation         610.0              White   \n",
       "4     2449  Reasonable Suspicion         110.0              White   \n",
       "\n",
       "  perceived_gender  subject_age   date_stop time_stop arrested searched  \\\n",
       "0             Male           25  2018-07-01  00:01:37        Y        N   \n",
       "1             Male           25  2018-07-01  00:03:34        N        N   \n",
       "2             Male           30  2018-07-01  00:05:43        N        N   \n",
       "3             Male           23  2018-07-01  00:19:06        N        N   \n",
       "4             Male           25  2018-07-01  00:03:00        Y        Y   \n",
       "\n",
       "  obtained_consent contraband_found property_seized  \n",
       "0              NaN                N               N  \n",
       "1              NaN                N               N  \n",
       "2              NaN                N               N  \n",
       "3              NaN                N               N  \n",
       "4              NaN                N               N  "
      ]
     },
     "execution_count": 66,
     "metadata": {},
     "output_type": "execute_result"
    }
   ],
   "source": [
    "cleaned_df2018_2019 = cleaning.clean_2018_2019(df2018_2019)\n",
    "cleaned_df2018_2019.head()"
   ]
  },
  {
   "cell_type": "markdown",
   "metadata": {},
   "source": [
    "## Descriptive Stats and Traffic Stop Analysis"
   ]
  },
  {
   "cell_type": "markdown",
   "metadata": {},
   "source": [
    "Since the main difference between pre and post 2018 data is in the cleaning, from here we will only be looking at the cleaned 2015 data for simplicity sake."
   ]
  },
  {
   "cell_type": "code",
   "execution_count": 67,
   "metadata": {},
   "outputs": [
    {
     "data": {
      "text/html": [
       "<div>\n",
       "<style scoped>\n",
       "    .dataframe tbody tr th:only-of-type {\n",
       "        vertical-align: middle;\n",
       "    }\n",
       "\n",
       "    .dataframe tbody tr th {\n",
       "        vertical-align: top;\n",
       "    }\n",
       "\n",
       "    .dataframe thead th {\n",
       "        text-align: right;\n",
       "    }\n",
       "</style>\n",
       "<table border=\"1\" class=\"dataframe\">\n",
       "  <thead>\n",
       "    <tr style=\"text-align: right;\">\n",
       "      <th></th>\n",
       "      <th>stop_id</th>\n",
       "    </tr>\n",
       "    <tr>\n",
       "      <th>subject_race</th>\n",
       "      <th></th>\n",
       "    </tr>\n",
       "  </thead>\n",
       "  <tbody>\n",
       "    <tr>\n",
       "      <td>Asian</td>\n",
       "      <td>0.076580</td>\n",
       "    </tr>\n",
       "    <tr>\n",
       "      <td>Black/African American</td>\n",
       "      <td>0.107406</td>\n",
       "    </tr>\n",
       "    <tr>\n",
       "      <td>Hispanic/Latino/a</td>\n",
       "      <td>0.298427</td>\n",
       "    </tr>\n",
       "    <tr>\n",
       "      <td>Middle Eastern or South Asian</td>\n",
       "      <td>0.000953</td>\n",
       "    </tr>\n",
       "    <tr>\n",
       "      <td>Native American</td>\n",
       "      <td>0.005112</td>\n",
       "    </tr>\n",
       "    <tr>\n",
       "      <td>Other</td>\n",
       "      <td>0.073807</td>\n",
       "    </tr>\n",
       "    <tr>\n",
       "      <td>Pacific Islander</td>\n",
       "      <td>0.002097</td>\n",
       "    </tr>\n",
       "    <tr>\n",
       "      <td>White</td>\n",
       "      <td>0.432162</td>\n",
       "    </tr>\n",
       "  </tbody>\n",
       "</table>\n",
       "</div>"
      ],
      "text/plain": [
       "                                stop_id\n",
       "subject_race                           \n",
       "Asian                          0.076580\n",
       "Black/African American         0.107406\n",
       "Hispanic/Latino/a              0.298427\n",
       "Middle Eastern or South Asian  0.000953\n",
       "Native American                0.005112\n",
       "Other                          0.073807\n",
       "Pacific Islander               0.002097\n",
       "White                          0.432162"
      ]
     },
     "execution_count": 67,
     "metadata": {},
     "output_type": "execute_result"
    }
   ],
   "source": [
    "cleaned_df2015[['subject_race', 'stop_id']].groupby('subject_race').count() / len(cleaned_df2015)"
   ]
  },
  {
   "cell_type": "code",
   "execution_count": 68,
   "metadata": {},
   "outputs": [
    {
     "data": {
      "image/png": "[encoded data removed]",
      "text/plain": [
       "<Figure size 432x288 with 1 Axes>"
      ]
     },
     "metadata": {
      "needs_background": "light"
     },
     "output_type": "display_data"
    }
   ],
   "source": [
    "race_distribution = cleaned_df2015['subject_race'].value_counts().plot(kind = 'bar')\n",
    "race_title = plt.title('Race Distribution 2015')"
   ]
  },
  {
   "cell_type": "markdown",
   "metadata": {},
   "source": [
    "We see that Whites were pulled over the most in 2015, followed by Hispanics, African-aAmericans, and then Asians. We will have to compare this to the census data at a later date to see if these proportions accurately portray the demographics of the areas from which they are pulled."
   ]
  },
  {
   "cell_type": "code",
   "execution_count": 69,
   "metadata": {},
   "outputs": [
    {
     "name": "stderr",
     "output_type": "stream",
     "text": [
      "/opt/anaconda3/lib/python3.7/site-packages/ipykernel_launcher.py:2: SettingWithCopyWarning: \n",
      "A value is trying to be set on a copy of a slice from a DataFrame.\n",
      "Try using .loc[row_indexer,col_indexer] = value instead\n",
      "\n",
      "See the caveats in the documentation: http://pandas.pydata.org/pandas-docs/stable/user_guide/indexing.html#returning-a-view-versus-a-copy\n",
      "  \n",
      "/opt/anaconda3/lib/python3.7/site-packages/ipykernel_launcher.py:3: SettingWithCopyWarning: \n",
      "A value is trying to be set on a copy of a slice from a DataFrame.\n",
      "Try using .loc[row_indexer,col_indexer] = value instead\n",
      "\n",
      "See the caveats in the documentation: http://pandas.pydata.org/pandas-docs/stable/user_guide/indexing.html#returning-a-view-versus-a-copy\n",
      "  This is separate from the ipykernel package so we can avoid doing imports until\n",
      "/opt/anaconda3/lib/python3.7/site-packages/ipykernel_launcher.py:4: SettingWithCopyWarning: \n",
      "A value is trying to be set on a copy of a slice from a DataFrame.\n",
      "Try using .loc[row_indexer,col_indexer] = value instead\n",
      "\n",
      "See the caveats in the documentation: http://pandas.pydata.org/pandas-docs/stable/user_guide/indexing.html#returning-a-view-versus-a-copy\n",
      "  after removing the cwd from sys.path.\n",
      "/opt/anaconda3/lib/python3.7/site-packages/ipykernel_launcher.py:5: SettingWithCopyWarning: \n",
      "A value is trying to be set on a copy of a slice from a DataFrame.\n",
      "Try using .loc[row_indexer,col_indexer] = value instead\n",
      "\n",
      "See the caveats in the documentation: http://pandas.pydata.org/pandas-docs/stable/user_guide/indexing.html#returning-a-view-versus-a-copy\n",
      "  \"\"\"\n"
     ]
    },
    {
     "data": {
      "text/html": [
       "<div>\n",
       "<style scoped>\n",
       "    .dataframe tbody tr th:only-of-type {\n",
       "        vertical-align: middle;\n",
       "    }\n",
       "\n",
       "    .dataframe tbody tr th {\n",
       "        vertical-align: top;\n",
       "    }\n",
       "\n",
       "    .dataframe thead th {\n",
       "        text-align: right;\n",
       "    }\n",
       "</style>\n",
       "<table border=\"1\" class=\"dataframe\">\n",
       "  <thead>\n",
       "    <tr style=\"text-align: right;\">\n",
       "      <th></th>\n",
       "      <th>arrest_int</th>\n",
       "      <th>search_int</th>\n",
       "      <th>contr_int</th>\n",
       "      <th>prop_int</th>\n",
       "    </tr>\n",
       "    <tr>\n",
       "      <th>subject_race</th>\n",
       "      <th></th>\n",
       "      <th></th>\n",
       "      <th></th>\n",
       "      <th></th>\n",
       "    </tr>\n",
       "  </thead>\n",
       "  <tbody>\n",
       "    <tr>\n",
       "      <td>Asian</td>\n",
       "      <td>0.024437</td>\n",
       "      <td>0.040955</td>\n",
       "      <td>0.003168</td>\n",
       "      <td>0.003733</td>\n",
       "    </tr>\n",
       "    <tr>\n",
       "      <td>Black/African American</td>\n",
       "      <td>0.031701</td>\n",
       "      <td>0.094378</td>\n",
       "      <td>0.008228</td>\n",
       "      <td>0.007179</td>\n",
       "    </tr>\n",
       "    <tr>\n",
       "      <td>Hispanic/Latino/a</td>\n",
       "      <td>0.026622</td>\n",
       "      <td>0.063725</td>\n",
       "      <td>0.004761</td>\n",
       "      <td>0.007519</td>\n",
       "    </tr>\n",
       "    <tr>\n",
       "      <td>Middle Eastern or South Asian</td>\n",
       "      <td>0.045455</td>\n",
       "      <td>0.063636</td>\n",
       "      <td>0.000000</td>\n",
       "      <td>0.000000</td>\n",
       "    </tr>\n",
       "    <tr>\n",
       "      <td>Native American</td>\n",
       "      <td>0.013559</td>\n",
       "      <td>0.022034</td>\n",
       "      <td>0.003390</td>\n",
       "      <td>0.003390</td>\n",
       "    </tr>\n",
       "    <tr>\n",
       "      <td>Other</td>\n",
       "      <td>0.029581</td>\n",
       "      <td>0.041202</td>\n",
       "      <td>0.002582</td>\n",
       "      <td>0.002700</td>\n",
       "    </tr>\n",
       "    <tr>\n",
       "      <td>Pacific Islander</td>\n",
       "      <td>0.049587</td>\n",
       "      <td>0.090909</td>\n",
       "      <td>0.000000</td>\n",
       "      <td>0.004132</td>\n",
       "    </tr>\n",
       "    <tr>\n",
       "      <td>White</td>\n",
       "      <td>0.036166</td>\n",
       "      <td>0.051082</td>\n",
       "      <td>0.004330</td>\n",
       "      <td>0.004451</td>\n",
       "    </tr>\n",
       "  </tbody>\n",
       "</table>\n",
       "</div>"
      ],
      "text/plain": [
       "                               arrest_int  search_int  contr_int  prop_int\n",
       "subject_race                                                              \n",
       "Asian                            0.024437    0.040955   0.003168  0.003733\n",
       "Black/African American           0.031701    0.094378   0.008228  0.007179\n",
       "Hispanic/Latino/a                0.026622    0.063725   0.004761  0.007519\n",
       "Middle Eastern or South Asian    0.045455    0.063636   0.000000  0.000000\n",
       "Native American                  0.013559    0.022034   0.003390  0.003390\n",
       "Other                            0.029581    0.041202   0.002582  0.002700\n",
       "Pacific Islander                 0.049587    0.090909   0.000000  0.004132\n",
       "White                            0.036166    0.051082   0.004330  0.004451"
      ]
     },
     "execution_count": 69,
     "metadata": {},
     "output_type": "execute_result"
    }
   ],
   "source": [
    "temp_df = cleaned_df2015[['subject_race', 'arrested', 'searched', 'contraband_found', 'property_seized']]\n",
    "temp_df['arrest_int'] = [1 if x == 'Y' else 0 for x in temp_df.arrested]\n",
    "temp_df['search_int'] = [1 if x == 'Y' else 0 for x in temp_df.searched]\n",
    "temp_df['contr_int'] = [1 if x == 'Y' else 0 for x in temp_df.contraband_found]\n",
    "temp_df['prop_int'] = [1 if x == 'Y' else 0 for x in temp_df.property_seized]\n",
    "arrest_search_by_race = temp_df[['subject_race', 'arrest_int', 'search_int', 'contr_int', 'prop_int']].groupby('subject_race').mean()\n",
    "arrest_search_by_race"
   ]
  },
  {
   "cell_type": "code",
   "execution_count": 70,
   "metadata": {},
   "outputs": [
    {
     "data": {
      "image/png": "[encoded data removed]",
      "text/plain": [
       "<Figure size 432x288 with 1 Axes>"
      ]
     },
     "metadata": {
      "needs_background": "light"
     },
     "output_type": "display_data"
    }
   ],
   "source": [
    "arrest_search_by_race_plot = arrest_search_by_race[['arrest_int', 'search_int']].plot(kind = 'bar')\n",
    "arr_title = plt.title('Arrest and Search Rate by Race')"
   ]
  },
  {
   "cell_type": "code",
   "execution_count": 71,
   "metadata": {},
   "outputs": [
    {
     "data": {
      "image/png": "[encoded data removed]",
      "text/plain": [
       "<Figure size 432x288 with 1 Axes>"
      ]
     },
     "metadata": {
      "needs_background": "light"
     },
     "output_type": "display_data"
    }
   ],
   "source": [
    "contr_prop_plot = arrest_search_by_race[['contr_int', 'prop_int']].plot(kind = 'bar')\n",
    "contr_title = plt.title('Contraband and Property Seizure by Race')"
   ]
  },
  {
   "cell_type": "markdown",
   "metadata": {},
   "source": [
    "## Veil of Darkness"
   ]
  },
  {
   "cell_type": "code",
   "execution_count": 72,
   "metadata": {},
   "outputs": [
    {
     "data": {
      "text/html": [
       "<div>\n",
       "<style scoped>\n",
       "    .dataframe tbody tr th:only-of-type {\n",
       "        vertical-align: middle;\n",
       "    }\n",
       "\n",
       "    .dataframe tbody tr th {\n",
       "        vertical-align: top;\n",
       "    }\n",
       "\n",
       "    .dataframe thead th {\n",
       "        text-align: right;\n",
       "    }\n",
       "</style>\n",
       "<table border=\"1\" class=\"dataframe\">\n",
       "  <thead>\n",
       "    <tr style=\"text-align: right;\">\n",
       "      <th></th>\n",
       "      <th>stop_id</th>\n",
       "      <th>stop_cause</th>\n",
       "      <th>service_area</th>\n",
       "      <th>subject_race</th>\n",
       "      <th>subject_sex</th>\n",
       "      <th>subject_age</th>\n",
       "      <th>date_stop</th>\n",
       "      <th>time_stop</th>\n",
       "      <th>arrested</th>\n",
       "      <th>searched</th>\n",
       "      <th>obtained_consent</th>\n",
       "      <th>contraband_found</th>\n",
       "      <th>property_seized</th>\n",
       "    </tr>\n",
       "  </thead>\n",
       "  <tbody>\n",
       "    <tr>\n",
       "      <td>0</td>\n",
       "      <td>1189753</td>\n",
       "      <td>Equipment Violation</td>\n",
       "      <td>120</td>\n",
       "      <td>White</td>\n",
       "      <td>Male</td>\n",
       "      <td>26.0</td>\n",
       "      <td>2015-01-01</td>\n",
       "      <td>0:01</td>\n",
       "      <td>N</td>\n",
       "      <td>N</td>\n",
       "      <td>NaN</td>\n",
       "      <td>N</td>\n",
       "      <td>N</td>\n",
       "    </tr>\n",
       "    <tr>\n",
       "      <td>1</td>\n",
       "      <td>1189825</td>\n",
       "      <td>Personal Knowledge/Informant</td>\n",
       "      <td>230</td>\n",
       "      <td>Asian</td>\n",
       "      <td>Male</td>\n",
       "      <td>40.0</td>\n",
       "      <td>2015-01-01</td>\n",
       "      <td>0:08</td>\n",
       "      <td>N</td>\n",
       "      <td>N</td>\n",
       "      <td>NaN</td>\n",
       "      <td>N</td>\n",
       "      <td>N</td>\n",
       "    </tr>\n",
       "    <tr>\n",
       "      <td>2</td>\n",
       "      <td>1189760</td>\n",
       "      <td>Equipment Violation</td>\n",
       "      <td>440</td>\n",
       "      <td>Hispanic/Latino/a</td>\n",
       "      <td>Male</td>\n",
       "      <td>37.0</td>\n",
       "      <td>2015-01-01</td>\n",
       "      <td>0:08</td>\n",
       "      <td>N</td>\n",
       "      <td>N</td>\n",
       "      <td>NaN</td>\n",
       "      <td>N</td>\n",
       "      <td>N</td>\n",
       "    </tr>\n",
       "    <tr>\n",
       "      <td>3</td>\n",
       "      <td>1189746</td>\n",
       "      <td>Moving Violation</td>\n",
       "      <td>120</td>\n",
       "      <td>White</td>\n",
       "      <td>Male</td>\n",
       "      <td>29.0</td>\n",
       "      <td>2015-01-01</td>\n",
       "      <td>0:11</td>\n",
       "      <td>N</td>\n",
       "      <td>N</td>\n",
       "      <td>NaN</td>\n",
       "      <td>N</td>\n",
       "      <td>N</td>\n",
       "    </tr>\n",
       "    <tr>\n",
       "      <td>4</td>\n",
       "      <td>1189748</td>\n",
       "      <td>Moving Violation</td>\n",
       "      <td>120</td>\n",
       "      <td>White</td>\n",
       "      <td>Male</td>\n",
       "      <td>23.0</td>\n",
       "      <td>2015-01-01</td>\n",
       "      <td>0:17</td>\n",
       "      <td>N</td>\n",
       "      <td>N</td>\n",
       "      <td>NaN</td>\n",
       "      <td>N</td>\n",
       "      <td>N</td>\n",
       "    </tr>\n",
       "  </tbody>\n",
       "</table>\n",
       "</div>"
      ],
      "text/plain": [
       "   stop_id                    stop_cause service_area       subject_race  \\\n",
       "0  1189753           Equipment Violation          120              White   \n",
       "1  1189825  Personal Knowledge/Informant          230              Asian   \n",
       "2  1189760           Equipment Violation          440  Hispanic/Latino/a   \n",
       "3  1189746              Moving Violation          120              White   \n",
       "4  1189748              Moving Violation          120              White   \n",
       "\n",
       "  subject_sex  subject_age   date_stop time_stop arrested searched  \\\n",
       "0        Male         26.0  2015-01-01      0:01        N        N   \n",
       "1        Male         40.0  2015-01-01      0:08        N        N   \n",
       "2        Male         37.0  2015-01-01      0:08        N        N   \n",
       "3        Male         29.0  2015-01-01      0:11        N        N   \n",
       "4        Male         23.0  2015-01-01      0:17        N        N   \n",
       "\n",
       "  obtained_consent contraband_found property_seized  \n",
       "0              NaN                N               N  \n",
       "1              NaN                N               N  \n",
       "2              NaN                N               N  \n",
       "3              NaN                N               N  \n",
       "4              NaN                N               N  "
      ]
     },
     "execution_count": 72,
     "metadata": {},
     "output_type": "execute_result"
    }
   ],
   "source": [
    "vod_df = df2015.dropna(subset = ['time_stop']).reset_index(drop = True)\n",
    "vod_df.head()"
   ]
  },
  {
   "cell_type": "code",
   "execution_count": 73,
   "metadata": {},
   "outputs": [],
   "source": [
    "vod_df['time_stop'] = pd.to_datetime(vod_df['time_stop'], errors = 'coerce')"
   ]
  },
  {
   "cell_type": "code",
   "execution_count": 74,
   "metadata": {},
   "outputs": [
    {
     "data": {
      "text/html": [
       "<div>\n",
       "<style scoped>\n",
       "    .dataframe tbody tr th:only-of-type {\n",
       "        vertical-align: middle;\n",
       "    }\n",
       "\n",
       "    .dataframe tbody tr th {\n",
       "        vertical-align: top;\n",
       "    }\n",
       "\n",
       "    .dataframe thead th {\n",
       "        text-align: right;\n",
       "    }\n",
       "</style>\n",
       "<table border=\"1\" class=\"dataframe\">\n",
       "  <thead>\n",
       "    <tr style=\"text-align: right;\">\n",
       "      <th></th>\n",
       "      <th>stop_id</th>\n",
       "      <th>stop_cause</th>\n",
       "      <th>service_area</th>\n",
       "      <th>subject_race</th>\n",
       "      <th>subject_sex</th>\n",
       "      <th>subject_age</th>\n",
       "      <th>date_stop</th>\n",
       "      <th>time_stop</th>\n",
       "      <th>arrested</th>\n",
       "      <th>searched</th>\n",
       "      <th>obtained_consent</th>\n",
       "      <th>contraband_found</th>\n",
       "      <th>property_seized</th>\n",
       "    </tr>\n",
       "  </thead>\n",
       "  <tbody>\n",
       "    <tr>\n",
       "      <td>0</td>\n",
       "      <td>1189753</td>\n",
       "      <td>Equipment Violation</td>\n",
       "      <td>120</td>\n",
       "      <td>White</td>\n",
       "      <td>Male</td>\n",
       "      <td>26.0</td>\n",
       "      <td>2015-01-01</td>\n",
       "      <td>2020-03-16 00:01:00</td>\n",
       "      <td>N</td>\n",
       "      <td>N</td>\n",
       "      <td>NaN</td>\n",
       "      <td>N</td>\n",
       "      <td>N</td>\n",
       "    </tr>\n",
       "    <tr>\n",
       "      <td>1</td>\n",
       "      <td>1189825</td>\n",
       "      <td>Personal Knowledge/Informant</td>\n",
       "      <td>230</td>\n",
       "      <td>Asian</td>\n",
       "      <td>Male</td>\n",
       "      <td>40.0</td>\n",
       "      <td>2015-01-01</td>\n",
       "      <td>2020-03-16 00:08:00</td>\n",
       "      <td>N</td>\n",
       "      <td>N</td>\n",
       "      <td>NaN</td>\n",
       "      <td>N</td>\n",
       "      <td>N</td>\n",
       "    </tr>\n",
       "    <tr>\n",
       "      <td>2</td>\n",
       "      <td>1189760</td>\n",
       "      <td>Equipment Violation</td>\n",
       "      <td>440</td>\n",
       "      <td>Hispanic/Latino/a</td>\n",
       "      <td>Male</td>\n",
       "      <td>37.0</td>\n",
       "      <td>2015-01-01</td>\n",
       "      <td>2020-03-16 00:08:00</td>\n",
       "      <td>N</td>\n",
       "      <td>N</td>\n",
       "      <td>NaN</td>\n",
       "      <td>N</td>\n",
       "      <td>N</td>\n",
       "    </tr>\n",
       "    <tr>\n",
       "      <td>3</td>\n",
       "      <td>1189746</td>\n",
       "      <td>Moving Violation</td>\n",
       "      <td>120</td>\n",
       "      <td>White</td>\n",
       "      <td>Male</td>\n",
       "      <td>29.0</td>\n",
       "      <td>2015-01-01</td>\n",
       "      <td>2020-03-16 00:11:00</td>\n",
       "      <td>N</td>\n",
       "      <td>N</td>\n",
       "      <td>NaN</td>\n",
       "      <td>N</td>\n",
       "      <td>N</td>\n",
       "    </tr>\n",
       "    <tr>\n",
       "      <td>4</td>\n",
       "      <td>1189748</td>\n",
       "      <td>Moving Violation</td>\n",
       "      <td>120</td>\n",
       "      <td>White</td>\n",
       "      <td>Male</td>\n",
       "      <td>23.0</td>\n",
       "      <td>2015-01-01</td>\n",
       "      <td>2020-03-16 00:17:00</td>\n",
       "      <td>N</td>\n",
       "      <td>N</td>\n",
       "      <td>NaN</td>\n",
       "      <td>N</td>\n",
       "      <td>N</td>\n",
       "    </tr>\n",
       "    <tr>\n",
       "      <td>...</td>\n",
       "      <td>...</td>\n",
       "      <td>...</td>\n",
       "      <td>...</td>\n",
       "      <td>...</td>\n",
       "      <td>...</td>\n",
       "      <td>...</td>\n",
       "      <td>...</td>\n",
       "      <td>...</td>\n",
       "      <td>...</td>\n",
       "      <td>...</td>\n",
       "      <td>...</td>\n",
       "      <td>...</td>\n",
       "      <td>...</td>\n",
       "    </tr>\n",
       "    <tr>\n",
       "      <td>114808</td>\n",
       "      <td>1311046</td>\n",
       "      <td>Moving Violation</td>\n",
       "      <td>520</td>\n",
       "      <td>White</td>\n",
       "      <td>Male</td>\n",
       "      <td>22.0</td>\n",
       "      <td>2015-12-31</td>\n",
       "      <td>2020-03-16 23:30:00</td>\n",
       "      <td>N</td>\n",
       "      <td>N</td>\n",
       "      <td>NaN</td>\n",
       "      <td>N</td>\n",
       "      <td>N</td>\n",
       "    </tr>\n",
       "    <tr>\n",
       "      <td>114809</td>\n",
       "      <td>1308165</td>\n",
       "      <td>Moving Violation</td>\n",
       "      <td>Unknown</td>\n",
       "      <td>Hispanic/Latino/a</td>\n",
       "      <td>Female</td>\n",
       "      <td>38.0</td>\n",
       "      <td>2015-12-31</td>\n",
       "      <td>2020-03-16 23:39:00</td>\n",
       "      <td>N</td>\n",
       "      <td>N</td>\n",
       "      <td>NaN</td>\n",
       "      <td>N</td>\n",
       "      <td>N</td>\n",
       "    </tr>\n",
       "    <tr>\n",
       "      <td>114810</td>\n",
       "      <td>1308166</td>\n",
       "      <td>Equipment Violation</td>\n",
       "      <td>930</td>\n",
       "      <td>White</td>\n",
       "      <td>Male</td>\n",
       "      <td>18.0</td>\n",
       "      <td>2015-12-31</td>\n",
       "      <td>2020-03-16 23:40:00</td>\n",
       "      <td>N</td>\n",
       "      <td>N</td>\n",
       "      <td>NaN</td>\n",
       "      <td>N</td>\n",
       "      <td>N</td>\n",
       "    </tr>\n",
       "    <tr>\n",
       "      <td>114811</td>\n",
       "      <td>1308168</td>\n",
       "      <td>Moving Violation</td>\n",
       "      <td>520</td>\n",
       "      <td>Black/African American</td>\n",
       "      <td>Male</td>\n",
       "      <td>38.0</td>\n",
       "      <td>2015-12-31</td>\n",
       "      <td>2020-03-16 23:52:00</td>\n",
       "      <td>N</td>\n",
       "      <td>N</td>\n",
       "      <td>NaN</td>\n",
       "      <td>N</td>\n",
       "      <td>N</td>\n",
       "    </tr>\n",
       "    <tr>\n",
       "      <td>114812</td>\n",
       "      <td>1308169</td>\n",
       "      <td>Equipment Violation</td>\n",
       "      <td>830</td>\n",
       "      <td>Black/African American</td>\n",
       "      <td>Female</td>\n",
       "      <td>33.0</td>\n",
       "      <td>2015-12-31</td>\n",
       "      <td>2020-03-16 23:54:00</td>\n",
       "      <td>N</td>\n",
       "      <td>N</td>\n",
       "      <td>NaN</td>\n",
       "      <td>N</td>\n",
       "      <td>N</td>\n",
       "    </tr>\n",
       "  </tbody>\n",
       "</table>\n",
       "<p>114813 rows × 13 columns</p>\n",
       "</div>"
      ],
      "text/plain": [
       "        stop_id                    stop_cause service_area  \\\n",
       "0       1189753           Equipment Violation          120   \n",
       "1       1189825  Personal Knowledge/Informant          230   \n",
       "2       1189760           Equipment Violation          440   \n",
       "3       1189746              Moving Violation          120   \n",
       "4       1189748              Moving Violation          120   \n",
       "...         ...                           ...          ...   \n",
       "114808  1311046              Moving Violation          520   \n",
       "114809  1308165              Moving Violation      Unknown   \n",
       "114810  1308166           Equipment Violation          930   \n",
       "114811  1308168              Moving Violation          520   \n",
       "114812  1308169           Equipment Violation          830   \n",
       "\n",
       "                  subject_race subject_sex  subject_age   date_stop  \\\n",
       "0                        White        Male         26.0  2015-01-01   \n",
       "1                        Asian        Male         40.0  2015-01-01   \n",
       "2            Hispanic/Latino/a        Male         37.0  2015-01-01   \n",
       "3                        White        Male         29.0  2015-01-01   \n",
       "4                        White        Male         23.0  2015-01-01   \n",
       "...                        ...         ...          ...         ...   \n",
       "114808                   White        Male         22.0  2015-12-31   \n",
       "114809       Hispanic/Latino/a      Female         38.0  2015-12-31   \n",
       "114810                   White        Male         18.0  2015-12-31   \n",
       "114811  Black/African American        Male         38.0  2015-12-31   \n",
       "114812  Black/African American      Female         33.0  2015-12-31   \n",
       "\n",
       "                 time_stop arrested searched obtained_consent  \\\n",
       "0      2020-03-16 00:01:00        N        N              NaN   \n",
       "1      2020-03-16 00:08:00        N        N              NaN   \n",
       "2      2020-03-16 00:08:00        N        N              NaN   \n",
       "3      2020-03-16 00:11:00        N        N              NaN   \n",
       "4      2020-03-16 00:17:00        N        N              NaN   \n",
       "...                    ...      ...      ...              ...   \n",
       "114808 2020-03-16 23:30:00        N        N              NaN   \n",
       "114809 2020-03-16 23:39:00        N        N              NaN   \n",
       "114810 2020-03-16 23:40:00        N        N              NaN   \n",
       "114811 2020-03-16 23:52:00        N        N              NaN   \n",
       "114812 2020-03-16 23:54:00        N        N              NaN   \n",
       "\n",
       "       contraband_found property_seized  \n",
       "0                     N               N  \n",
       "1                     N               N  \n",
       "2                     N               N  \n",
       "3                     N               N  \n",
       "4                     N               N  \n",
       "...                 ...             ...  \n",
       "114808                N               N  \n",
       "114809                N               N  \n",
       "114810                N               N  \n",
       "114811                N               N  \n",
       "114812                N               N  \n",
       "\n",
       "[114813 rows x 13 columns]"
      ]
     },
     "execution_count": 74,
     "metadata": {},
     "output_type": "execute_result"
    }
   ],
   "source": [
    "vod_df = vod_df.dropna(subset = ['time_stop']).reset_index(drop = True)\n",
    "vod_df"
   ]
  },
  {
   "cell_type": "code",
   "execution_count": 75,
   "metadata": {},
   "outputs": [],
   "source": [
    "start_twil_time = pd.to_datetime('17:09:00')"
   ]
  },
  {
   "cell_type": "code",
   "execution_count": 76,
   "metadata": {},
   "outputs": [],
   "source": [
    "end_twil_time = pd.to_datetime('20:29:00')"
   ]
  },
  {
   "cell_type": "code",
   "execution_count": 77,
   "metadata": {},
   "outputs": [],
   "source": [
    "def is_in_twil(datetime):\n",
    "    if datetime.time() >= start_twil_time.time() and datetime.time() <= end_twil_time.time():\n",
    "        return True\n",
    "    else:\n",
    "        return False"
   ]
  },
  {
   "cell_type": "code",
   "execution_count": 78,
   "metadata": {},
   "outputs": [],
   "source": [
    "vod_df['is_in_twilight'] = vod_df['time_stop'].apply(lambda x: is_in_twil(x))"
   ]
  },
  {
   "cell_type": "code",
   "execution_count": 79,
   "metadata": {},
   "outputs": [],
   "source": [
    "vod_df = vod_df[vod_df['is_in_twilight']].reset_index(drop = True)"
   ]
  },
  {
   "cell_type": "code",
   "execution_count": 80,
   "metadata": {},
   "outputs": [
    {
     "data": {
      "text/html": [
       "<div>\n",
       "<style scoped>\n",
       "    .dataframe tbody tr th:only-of-type {\n",
       "        vertical-align: middle;\n",
       "    }\n",
       "\n",
       "    .dataframe tbody tr th {\n",
       "        vertical-align: top;\n",
       "    }\n",
       "\n",
       "    .dataframe thead th {\n",
       "        text-align: right;\n",
       "    }\n",
       "</style>\n",
       "<table border=\"1\" class=\"dataframe\">\n",
       "  <thead>\n",
       "    <tr style=\"text-align: right;\">\n",
       "      <th></th>\n",
       "      <th>stop_id</th>\n",
       "    </tr>\n",
       "    <tr>\n",
       "      <th>subject_race</th>\n",
       "      <th></th>\n",
       "    </tr>\n",
       "  </thead>\n",
       "  <tbody>\n",
       "    <tr>\n",
       "      <td>Asian</td>\n",
       "      <td>0.078194</td>\n",
       "    </tr>\n",
       "    <tr>\n",
       "      <td>Black/African American</td>\n",
       "      <td>0.114097</td>\n",
       "    </tr>\n",
       "    <tr>\n",
       "      <td>Hispanic/Latino/a</td>\n",
       "      <td>0.335139</td>\n",
       "    </tr>\n",
       "    <tr>\n",
       "      <td>Middle Eastern or South Asian</td>\n",
       "      <td>0.000069</td>\n",
       "    </tr>\n",
       "    <tr>\n",
       "      <td>Native American</td>\n",
       "      <td>0.007431</td>\n",
       "    </tr>\n",
       "    <tr>\n",
       "      <td>Other</td>\n",
       "      <td>0.074167</td>\n",
       "    </tr>\n",
       "    <tr>\n",
       "      <td>Pacific Islander</td>\n",
       "      <td>0.001806</td>\n",
       "    </tr>\n",
       "    <tr>\n",
       "      <td>White</td>\n",
       "      <td>0.386319</td>\n",
       "    </tr>\n",
       "  </tbody>\n",
       "</table>\n",
       "</div>"
      ],
      "text/plain": [
       "                                stop_id\n",
       "subject_race                           \n",
       "Asian                          0.078194\n",
       "Black/African American         0.114097\n",
       "Hispanic/Latino/a              0.335139\n",
       "Middle Eastern or South Asian  0.000069\n",
       "Native American                0.007431\n",
       "Other                          0.074167\n",
       "Pacific Islander               0.001806\n",
       "White                          0.386319"
      ]
     },
     "execution_count": 80,
     "metadata": {},
     "output_type": "execute_result"
    }
   ],
   "source": [
    "vod_df[['stop_id', 'subject_race']].groupby('subject_race').count() / len(vod_df)"
   ]
  },
  {
   "cell_type": "code",
   "execution_count": 81,
   "metadata": {},
   "outputs": [
    {
     "data": {
      "text/plain": [
       "<matplotlib.axes._subplots.AxesSubplot at 0x128187f90>"
      ]
     },
     "execution_count": 81,
     "metadata": {},
     "output_type": "execute_result"
    },
    {
     "data": {
      "image/png": "[encoded data removed]",
      "text/plain": [
       "<Figure size 432x288 with 1 Axes>"
      ]
     },
     "metadata": {
      "needs_background": "light"
     },
     "output_type": "display_data"
    }
   ],
   "source": [
    "(vod_df[['stop_id', 'subject_race']].groupby('subject_race').count() / len(vod_df)).plot(kind = 'bar')"
   ]
  },
  {
   "cell_type": "markdown",
   "metadata": {},
   "source": [
    "Surprisingly, after selecting only the inner-twilight period, we end up with a very similar distribution in the races of those stopped by the police. Further investigation is required into this phenomena, as this is not at all what was expected when initially beginning this investigation."
   ]
  },
  {
   "cell_type": "code",
   "execution_count": 82,
   "metadata": {},
   "outputs": [
    {
     "data": {
      "text/html": [
       "<div>\n",
       "<style scoped>\n",
       "    .dataframe tbody tr th:only-of-type {\n",
       "        vertical-align: middle;\n",
       "    }\n",
       "\n",
       "    .dataframe tbody tr th {\n",
       "        vertical-align: top;\n",
       "    }\n",
       "\n",
       "    .dataframe thead th {\n",
       "        text-align: right;\n",
       "    }\n",
       "</style>\n",
       "<table border=\"1\" class=\"dataframe\">\n",
       "  <thead>\n",
       "    <tr style=\"text-align: right;\">\n",
       "      <th></th>\n",
       "      <th>arrest_int</th>\n",
       "      <th>search_int</th>\n",
       "      <th>contr_int</th>\n",
       "      <th>prop_int</th>\n",
       "    </tr>\n",
       "    <tr>\n",
       "      <th>subject_race</th>\n",
       "      <th></th>\n",
       "      <th></th>\n",
       "      <th></th>\n",
       "      <th></th>\n",
       "    </tr>\n",
       "  </thead>\n",
       "  <tbody>\n",
       "    <tr>\n",
       "      <td>Asian</td>\n",
       "      <td>0.010657</td>\n",
       "      <td>0.031083</td>\n",
       "      <td>0.004440</td>\n",
       "      <td>0.005329</td>\n",
       "    </tr>\n",
       "    <tr>\n",
       "      <td>Black/African American</td>\n",
       "      <td>0.026172</td>\n",
       "      <td>0.115033</td>\n",
       "      <td>0.009130</td>\n",
       "      <td>0.006695</td>\n",
       "    </tr>\n",
       "    <tr>\n",
       "      <td>Hispanic/Latino/a</td>\n",
       "      <td>0.018235</td>\n",
       "      <td>0.056776</td>\n",
       "      <td>0.005180</td>\n",
       "      <td>0.007045</td>\n",
       "    </tr>\n",
       "    <tr>\n",
       "      <td>Middle Eastern or South Asian</td>\n",
       "      <td>0.000000</td>\n",
       "      <td>0.000000</td>\n",
       "      <td>0.000000</td>\n",
       "      <td>0.000000</td>\n",
       "    </tr>\n",
       "    <tr>\n",
       "      <td>Native American</td>\n",
       "      <td>0.009346</td>\n",
       "      <td>0.037383</td>\n",
       "      <td>0.009346</td>\n",
       "      <td>0.009346</td>\n",
       "    </tr>\n",
       "    <tr>\n",
       "      <td>Other</td>\n",
       "      <td>0.018727</td>\n",
       "      <td>0.031835</td>\n",
       "      <td>0.000936</td>\n",
       "      <td>0.002809</td>\n",
       "    </tr>\n",
       "    <tr>\n",
       "      <td>Pacific Islander</td>\n",
       "      <td>0.076923</td>\n",
       "      <td>0.153846</td>\n",
       "      <td>0.000000</td>\n",
       "      <td>0.000000</td>\n",
       "    </tr>\n",
       "    <tr>\n",
       "      <td>White</td>\n",
       "      <td>0.023369</td>\n",
       "      <td>0.044760</td>\n",
       "      <td>0.005033</td>\n",
       "      <td>0.003056</td>\n",
       "    </tr>\n",
       "  </tbody>\n",
       "</table>\n",
       "</div>"
      ],
      "text/plain": [
       "                               arrest_int  search_int  contr_int  prop_int\n",
       "subject_race                                                              \n",
       "Asian                            0.010657    0.031083   0.004440  0.005329\n",
       "Black/African American           0.026172    0.115033   0.009130  0.006695\n",
       "Hispanic/Latino/a                0.018235    0.056776   0.005180  0.007045\n",
       "Middle Eastern or South Asian    0.000000    0.000000   0.000000  0.000000\n",
       "Native American                  0.009346    0.037383   0.009346  0.009346\n",
       "Other                            0.018727    0.031835   0.000936  0.002809\n",
       "Pacific Islander                 0.076923    0.153846   0.000000  0.000000\n",
       "White                            0.023369    0.044760   0.005033  0.003056"
      ]
     },
     "execution_count": 82,
     "metadata": {},
     "output_type": "execute_result"
    }
   ],
   "source": [
    "temp_vod = vod_df.copy()\n",
    "temp_vod['arrest_int'] = [1 if x == 'Y' else 0 for x in temp_vod.arrested]\n",
    "temp_vod['search_int'] = [1 if x == 'Y' else 0 for x in temp_vod.searched]\n",
    "temp_vod['contr_int'] = [1 if x == 'Y' else 0 for x in temp_vod.contraband_found]\n",
    "temp_vod['prop_int'] = [1 if x == 'Y' else 0 for x in temp_vod.property_seized]\n",
    "arrest_search_by_race_vod = temp_vod[['subject_race', 'arrest_int', 'search_int', 'contr_int', 'prop_int']].groupby('subject_race').mean()\n",
    "arrest_search_by_race_vod"
   ]
  },
  {
   "cell_type": "code",
   "execution_count": 83,
   "metadata": {},
   "outputs": [
    {
     "data": {
      "text/plain": [
       "<matplotlib.axes._subplots.AxesSubplot at 0x1309a0ed0>"
      ]
     },
     "execution_count": 83,
     "metadata": {},
     "output_type": "execute_result"
    },
    {
     "data": {
      "image/png": "[encoded data removed]",
      "text/plain": [
       "<Figure size 432x288 with 1 Axes>"
      ]
     },
     "metadata": {
      "needs_background": "light"
     },
     "output_type": "display_data"
    }
   ],
   "source": [
    "arrest_search_by_race_vod[['arrest_int', 'search_int']].plot(kind = 'bar')"
   ]
  },
  {
   "cell_type": "markdown",
   "metadata": {},
   "source": [
    "However, during this time period, it seems that ALL people are searched at a much higher rate, especially Pacific Islanders and African-Americans, with no adequate reason initially presenting itself."
   ]
  },
  {
   "cell_type": "code",
   "execution_count": null,
   "metadata": {},
   "outputs": [],
   "source": []
  },
  {
   "cell_type": "code",
   "execution_count": null,
   "metadata": {},
   "outputs": [],
   "source": []
  },
  {
   "cell_type": "code",
   "execution_count": null,
   "metadata": {},
   "outputs": [],
   "source": []
  },
  {
   "cell_type": "code",
   "execution_count": null,
   "metadata": {},
   "outputs": [],
   "source": []
  },
  {
   "cell_type": "code",
   "execution_count": null,
   "metadata": {},
   "outputs": [],
   "source": []
  },
  {
   "cell_type": "code",
   "execution_count": null,
   "metadata": {},
   "outputs": [],
   "source": []
  }
 ],
 "metadata": {
  "kernelspec": {
   "display_name": "Python 3",
   "language": "python",
   "name": "python3"
  },
  "language_info": {
   "codemirror_mode": {
    "name": "ipython",
    "version": 3
   },
   "file_extension": ".py",
   "mimetype": "text/x-python",
   "name": "python",
   "nbconvert_exporter": "python",
   "pygments_lexer": "ipython3",
   "version": "3.7.4"
  }
 },
 "nbformat": 4,
 "nbformat_minor": 2
}
